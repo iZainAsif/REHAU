{
 "cells": [
  {
   "cell_type": "code",
   "execution_count": 3,
   "id": "0018bb4f",
   "metadata": {},
   "outputs": [],
   "source": [
    "import numpy as np\n",
    "import pandas as pd\n",
    "import seaborn as sns\n",
    "#import tigramite as tg"
   ]
  },
  {
   "cell_type": "code",
   "execution_count": 4,
   "id": "4b38e4d4",
   "metadata": {},
   "outputs": [],
   "source": [
    "df = pd.read_parquet('C:\\\\Users\\\\uddip\\\\Downloads\\\\ABAWS2324.parq')"
   ]
  },
  {
   "cell_type": "code",
   "execution_count": 5,
   "id": "49591b8c",
   "metadata": {},
   "outputs": [
    {
     "name": "stdout",
     "output_type": "stream",
     "text": [
      "Collecting tigramite\n",
      "  Downloading tigramite-5.2.5.0-py3-none-any.whl (295 kB)\n",
      "     ------------------------------------ 295.3/295.3 kB 791.9 kB/s eta 0:00:00\n",
      "Collecting numba==0.56.4\n",
      "  Downloading numba-0.56.4-cp39-cp39-win_amd64.whl (2.5 MB)\n",
      "     ---------------------------------------- 2.5/2.5 MB 1.5 MB/s eta 0:00:00\n",
      "Collecting scipy>=1.10.0\n",
      "  Downloading scipy-1.11.4-cp39-cp39-win_amd64.whl (44.3 MB)\n",
      "     ---------------------------------------- 44.3/44.3 MB 2.1 MB/s eta 0:00:00\n",
      "Requirement already satisfied: six in c:\\users\\uddip\\anaconda3\\lib\\site-packages (from tigramite) (1.16.0)\n",
      "Collecting numpy<1.24,>=1.18\n",
      "  Downloading numpy-1.23.5-cp39-cp39-win_amd64.whl (14.7 MB)\n",
      "     ---------------------------------------- 14.7/14.7 MB 1.4 MB/s eta 0:00:00\n",
      "Requirement already satisfied: setuptools in c:\\users\\uddip\\anaconda3\\lib\\site-packages (from numba==0.56.4->tigramite) (65.5.0)\n",
      "Requirement already satisfied: llvmlite<0.40,>=0.39.0dev0 in c:\\users\\uddip\\anaconda3\\lib\\site-packages (from numba==0.56.4->tigramite) (0.39.1)\n",
      "Installing collected packages: numpy, scipy, numba, tigramite\n",
      "  Attempting uninstall: numpy\n",
      "    Found existing installation: numpy 1.26.2\n",
      "    Uninstalling numpy-1.26.2:\n",
      "      Successfully uninstalled numpy-1.26.2\n"
     ]
    },
    {
     "name": "stderr",
     "output_type": "stream",
     "text": [
      "ERROR: Could not install packages due to an OSError: [WinError 5] Access is denied: 'C:\\\\Users\\\\uddip\\\\anaconda3\\\\Lib\\\\site-packages\\\\~umpy.libs\\\\libopenblas64__v0.3.23-293-gc2f4bdbb-gcc_10_3_0-2bde3a66a51006b2b53eb373ff767a3f.dll'\n",
      "Consider using the `--user` option or check the permissions.\n",
      "\n"
     ]
    }
   ],
   "source": [
    "#pip install pyarrow\n",
    "#pip install fastparquet\n",
    "#!pip install tigramite"
   ]
  },
  {
   "cell_type": "code",
   "execution_count": 3,
   "id": "602be1b5",
   "metadata": {},
   "outputs": [],
   "source": [
    "df['index'] = range(1, len(df) + 1)"
   ]
  },
  {
   "cell_type": "code",
   "execution_count": 6,
   "id": "eb6f775c",
   "metadata": {},
   "outputs": [],
   "source": [
    "#to display full dataframe\n",
    "pd.set_option('display.max_columns', None)\n",
    "pd.set_option('display.max_rows', None)\n",
    "\n",
    "# Set the display option to avoid scientific notation\n",
    "pd.set_option('display.float_format', lambda x: '%.5f' % x)\n"
   ]
  },
  {
   "cell_type": "code",
   "execution_count": 5,
   "id": "b345407d",
   "metadata": {},
   "outputs": [
    {
     "name": "stdout",
     "output_type": "stream",
     "text": [
      "Column names saved to 'column_names.xlsx'.\n"
     ]
    }
   ],
   "source": [
    "import pandas as pd\n",
    "\n",
    "# Assuming df is your DataFrame\n",
    "column_names_list = list(df.columns)\n",
    "\n",
    "# Create a DataFrame with the column names\n",
    "column_names_df = pd.DataFrame({'Column Names': column_names_list})\n",
    "\n",
    "# Specify the Excel file path\n",
    "excel_file_path = 'column_names.xlsx'\n",
    "\n",
    "# Save the DataFrame to an Excel file\n",
    "column_names_df.to_excel(excel_file_path, index=False)\n",
    "\n",
    "print(f\"Column names saved to '{excel_file_path}'.\")"
   ]
  },
  {
   "cell_type": "code",
   "execution_count": 21,
   "id": "f4b467ad",
   "metadata": {},
   "outputs": [],
   "source": [
    "selected_columns = ['extr_extr01_zone01_temp_r_value_act', 'extr_extr01_zone02_temp_r_value_act', 'extr_extr01_zone03_temp_r_value_act', 'extr_extr01_zone04_temp_r_value_act', \n",
    "                    'extr_extr01_zone05_temp_r_value_act', 'extr_extr01_zone06_temp_r_value_act', 'extr_extr01_zone07_temp_r_value_act', 'extr_extr01_zone08_temp_r_value_act', \n",
    "                    'extr_extr01_zone09_temp_r_value_act', 'extr_extr01_zone10_temp_r_value_act', 'extr_extr01_zone11_temp_r_value_act', 'extr_extr01_zone12_temp_r_value_act', \n",
    "                    'extr_extr01_zone13_temp_r_value_act', 'extr_extr01_zone14_temp_r_value_act', 'extr_extr01_zone15_temp_r_value_act']"
   ]
  },
  {
   "cell_type": "code",
   "execution_count": 22,
   "id": "e74592b9",
   "metadata": {},
   "outputs": [],
   "source": [
    "df_copy = df.dropna(subset=['extr_extr01_melt01_temp_r_value_act'])"
   ]
  },
  {
   "cell_type": "code",
   "execution_count": 23,
   "id": "c6863929",
   "metadata": {},
   "outputs": [],
   "source": [
    "df_new = df_copy[selected_columns]\n"
   ]
  },
  {
   "cell_type": "code",
   "execution_count": 24,
   "id": "aba6f85a",
   "metadata": {},
   "outputs": [],
   "source": [
    "filtered_df = df_new.dropna(subset=df_new.columns, how='all')"
   ]
  },
  {
   "cell_type": "code",
   "execution_count": 25,
   "id": "993fc283",
   "metadata": {},
   "outputs": [],
   "source": [
    "subset_df = filtered_df.head(500)"
   ]
  },
  {
   "cell_type": "code",
   "execution_count": 26,
   "id": "735e5cdc",
   "metadata": {},
   "outputs": [],
   "source": [
    "subset_df.to_excel('tempzone1to16.xlsx')"
   ]
  },
  {
   "cell_type": "code",
   "execution_count": null,
   "id": "69a046b0",
   "metadata": {},
   "outputs": [],
   "source": []
  },
  {
   "cell_type": "code",
   "execution_count": 13,
   "id": "03a62232",
   "metadata": {},
   "outputs": [
    {
     "name": "stdout",
     "output_type": "stream",
     "text": [
      "['dose_grav01_hopper01_mattemp_r_value_act', 'dose_grav01_hopper01_powerin_r_value_act', 'dose_grav01_hopper01_rotspeed_r_value_act', 'dose_grav01_hopper01_throughput_r_value_act', 'dose_grav01_hopper01_throughput_r_value_set', 'dose_grav01_hopper01_weight_r_value_act', 'dose_grav01_hopper02_mattemp_r_value_act', 'dose_grav01_hopper02_powerin_r_value_act', 'dose_grav01_hopper02_rotspeed_r_value_act', 'dose_grav01_hopper02_throughput_r_value_act', 'dose_grav01_hopper02_throughput_r_value_set', 'dose_grav01_hopper02_weight_r_value_act', 'dose_grav01_hopper03_mattemp_r_value_act', 'dose_grav01_hopper03_powerin_r_value_act', 'dose_grav01_hopper03_rotspeed_r_value_act', 'dose_grav01_hopper03_throughput_r_value_act', 'dose_grav01_hopper03_throughput_r_value_set', 'dose_grav01_hopper03_weight_r_value_act', 'dose_grav01_hopper04_mattemp_r_value_act', 'dose_grav01_hopper04_powerin_r_value_act', 'dose_grav01_hopper04_rotspeed_r_value_act', 'dose_grav01_hopper04_throughput_r_value_act', 'dose_grav01_hopper04_throughput_r_value_set', 'dose_grav01_hopper04_weight_r_value_act', 'dose_grav01_hopper05_mattemp_r_value_act', 'dose_grav01_hopper05_powerin_r_value_act', 'dose_grav01_hopper05_rotspeed_r_value_act', 'dose_grav01_hopper05_throughput_r_value_act', 'dose_grav01_hopper05_throughput_r_value_set', 'dose_grav01_hopper05_weight_r_value_act', 'dose_grav01_total_throughput_r_value_act', 'dose_grav01_total_throughput_r_value_set', 'extr_extr01_funnel_active_r_value_act', 'extr_extr01_melt01_pressure_r_value_act', 'extr_extr01_melt01_temp_r_value_act', 'extr_extr01_screw_load_r_value_act', 'extr_extr01_screw_rotspeed_r_value_act', 'extr_extr01_screw_rotspeed_r_value_set', 'extr_extr01_vacuum_r_value_act', 'segment_nr', 'extr_extr01_zone01_ctrlpoint_r_value_act', 'extr_extr01_zone01_temp_r_value_act', 'extr_extr01_zone01_temp_r_value_set', 'extr_extr01_zone02_ctrlpoint_r_value_act', 'extr_extr01_zone02_temp_r_value_act', 'extr_extr01_zone02_temp_r_value_set', 'extr_extr01_zone03_ctrlpoint_r_value_act', 'extr_extr01_zone03_temp_r_value_act', 'extr_extr01_zone03_temp_r_value_set', 'extr_extr01_zone04_ctrlpoint_r_value_act', 'extr_extr01_zone04_temp_r_value_act', 'extr_extr01_zone04_temp_r_value_set', 'extr_extr01_zone05_ctrlpoint_r_value_act', 'extr_extr01_zone05_temp_r_value_act', 'extr_extr01_zone05_temp_r_value_set', 'extr_extr01_zone06_ctrlpoint_r_value_act', 'extr_extr01_zone06_temp_r_value_act', 'extr_extr01_zone06_temp_r_value_set', 'extr_extr01_zone07_ctrlpoint_r_value_act', 'extr_extr01_zone07_temp_r_value_act', 'extr_extr01_zone07_temp_r_value_set', 'extr_extr01_zone08_ctrlpoint_r_value_act', 'extr_extr01_zone08_temp_r_value_act', 'extr_extr01_zone08_temp_r_value_set', 'extr_extr01_zone09_ctrlpoint_r_value_act', 'extr_extr01_zone09_temp_r_value_act', 'extr_extr01_zone09_temp_r_value_set', 'extr_extr01_zone10_ctrlpoint_r_value_act', 'extr_extr01_zone10_temp_r_value_act', 'extr_extr01_zone10_temp_r_value_set', 'extr_extr01_zone11_ctrlpoint_r_value_act', 'extr_extr01_zone11_temp_r_value_act', 'extr_extr01_zone11_temp_r_value_set', 'extr_extr01_zone12_ctrlpoint_r_value_act', 'extr_extr01_zone12_temp_r_value_act', 'extr_extr01_zone12_temp_r_value_set', 'extr_extr01_zone13_ctrlpoint_r_value_act', 'extr_extr01_zone13_temp_r_value_act', 'extr_extr01_zone13_temp_r_value_set', 'extr_extr01_zone14_ctrlpoint_r_value_act', 'extr_extr01_zone14_temp_r_value_act', 'extr_extr01_zone14_temp_r_value_set', 'extr_extr01_zone15_ctrlpoint_r_value_act', 'extr_extr01_zone15_temp_r_value_act', 'extr_extr01_zone15_temp_r_value_set', 'extr_extr01_zone16_ctrlpoint_r_value_act', 'extr_extr01_zone16_temp_r_value_act', 'extr_extr01_zone16_temp_r_value_set', 'article_type', 'order', 'recipe', 'basematerial', 'timecode']\n"
     ]
    }
   ],
   "source": [
    "column_names_list = list(df.columns)\n",
    "print(column_names_list)"
   ]
  },
  {
   "cell_type": "code",
   "execution_count": null,
   "id": "1c9c4a15",
   "metadata": {},
   "outputs": [],
   "source": [
    "df\n"
   ]
  },
  {
   "cell_type": "code",
   "execution_count": 12,
   "id": "4fa2b5d7",
   "metadata": {},
   "outputs": [
    {
     "name": "stdout",
     "output_type": "stream",
     "text": [
      "<class 'pandas.core.frame.DataFrame'>\n",
      "DatetimeIndex: 6805340 entries, 2020-08-31 21:19:58.390000 to 2020-10-31 02:15:14.750000\n",
      "Data columns (total 93 columns):\n",
      " #   Column                                       Dtype  \n",
      "---  ------                                       -----  \n",
      " 0   dose_grav01_hopper01_mattemp_r_value_act     float64\n",
      " 1   dose_grav01_hopper01_powerin_r_value_act     float64\n",
      " 2   dose_grav01_hopper01_rotspeed_r_value_act    float64\n",
      " 3   dose_grav01_hopper01_throughput_r_value_act  float64\n",
      " 4   dose_grav01_hopper01_throughput_r_value_set  float64\n",
      " 5   dose_grav01_hopper01_weight_r_value_act      float64\n",
      " 6   dose_grav01_hopper02_mattemp_r_value_act     float64\n",
      " 7   dose_grav01_hopper02_powerin_r_value_act     float64\n",
      " 8   dose_grav01_hopper02_rotspeed_r_value_act    float64\n",
      " 9   dose_grav01_hopper02_throughput_r_value_act  float64\n",
      " 10  dose_grav01_hopper02_throughput_r_value_set  float64\n",
      " 11  dose_grav01_hopper02_weight_r_value_act      float64\n",
      " 12  dose_grav01_hopper03_mattemp_r_value_act     float64\n",
      " 13  dose_grav01_hopper03_powerin_r_value_act     float64\n",
      " 14  dose_grav01_hopper03_rotspeed_r_value_act    float64\n",
      " 15  dose_grav01_hopper03_throughput_r_value_act  float64\n",
      " 16  dose_grav01_hopper03_throughput_r_value_set  float64\n",
      " 17  dose_grav01_hopper03_weight_r_value_act      float64\n",
      " 18  dose_grav01_hopper04_mattemp_r_value_act     float64\n",
      " 19  dose_grav01_hopper04_powerin_r_value_act     float64\n",
      " 20  dose_grav01_hopper04_rotspeed_r_value_act    float64\n",
      " 21  dose_grav01_hopper04_throughput_r_value_act  float64\n",
      " 22  dose_grav01_hopper04_throughput_r_value_set  float64\n",
      " 23  dose_grav01_hopper04_weight_r_value_act      float64\n",
      " 24  dose_grav01_hopper05_mattemp_r_value_act     float64\n",
      " 25  dose_grav01_hopper05_powerin_r_value_act     float64\n",
      " 26  dose_grav01_hopper05_rotspeed_r_value_act    float64\n",
      " 27  dose_grav01_hopper05_throughput_r_value_act  float64\n",
      " 28  dose_grav01_hopper05_throughput_r_value_set  float64\n",
      " 29  dose_grav01_hopper05_weight_r_value_act      float64\n",
      " 30  dose_grav01_total_throughput_r_value_act     float64\n",
      " 31  dose_grav01_total_throughput_r_value_set     float64\n",
      " 32  extr_extr01_funnel_active_r_value_act        float64\n",
      " 33  extr_extr01_melt01_pressure_r_value_act      float64\n",
      " 34  extr_extr01_melt01_temp_r_value_act          float64\n",
      " 35  extr_extr01_screw_load_r_value_act           float64\n",
      " 36  extr_extr01_screw_rotspeed_r_value_act       float64\n",
      " 37  extr_extr01_screw_rotspeed_r_value_set       float64\n",
      " 38  extr_extr01_vacuum_r_value_act               float64\n",
      " 39  segment_nr                                   int64  \n",
      " 40  extr_extr01_zone01_ctrlpoint_r_value_act     float64\n",
      " 41  extr_extr01_zone01_temp_r_value_act          float64\n",
      " 42  extr_extr01_zone01_temp_r_value_set          float64\n",
      " 43  extr_extr01_zone02_ctrlpoint_r_value_act     float64\n",
      " 44  extr_extr01_zone02_temp_r_value_act          float64\n",
      " 45  extr_extr01_zone02_temp_r_value_set          float64\n",
      " 46  extr_extr01_zone03_ctrlpoint_r_value_act     float64\n",
      " 47  extr_extr01_zone03_temp_r_value_act          float64\n",
      " 48  extr_extr01_zone03_temp_r_value_set          float64\n",
      " 49  extr_extr01_zone04_ctrlpoint_r_value_act     float64\n",
      " 50  extr_extr01_zone04_temp_r_value_act          float64\n",
      " 51  extr_extr01_zone04_temp_r_value_set          float64\n",
      " 52  extr_extr01_zone05_ctrlpoint_r_value_act     float64\n",
      " 53  extr_extr01_zone05_temp_r_value_act          float64\n",
      " 54  extr_extr01_zone05_temp_r_value_set          float64\n",
      " 55  extr_extr01_zone06_ctrlpoint_r_value_act     float64\n",
      " 56  extr_extr01_zone06_temp_r_value_act          float64\n",
      " 57  extr_extr01_zone06_temp_r_value_set          float64\n",
      " 58  extr_extr01_zone07_ctrlpoint_r_value_act     float64\n",
      " 59  extr_extr01_zone07_temp_r_value_act          float64\n",
      " 60  extr_extr01_zone07_temp_r_value_set          float64\n",
      " 61  extr_extr01_zone08_ctrlpoint_r_value_act     float64\n",
      " 62  extr_extr01_zone08_temp_r_value_act          float64\n",
      " 63  extr_extr01_zone08_temp_r_value_set          float64\n",
      " 64  extr_extr01_zone09_ctrlpoint_r_value_act     float64\n",
      " 65  extr_extr01_zone09_temp_r_value_act          float64\n",
      " 66  extr_extr01_zone09_temp_r_value_set          float64\n",
      " 67  extr_extr01_zone10_ctrlpoint_r_value_act     float64\n",
      " 68  extr_extr01_zone10_temp_r_value_act          float64\n",
      " 69  extr_extr01_zone10_temp_r_value_set          float64\n",
      " 70  extr_extr01_zone11_ctrlpoint_r_value_act     float64\n",
      " 71  extr_extr01_zone11_temp_r_value_act          float64\n",
      " 72  extr_extr01_zone11_temp_r_value_set          float64\n",
      " 73  extr_extr01_zone12_ctrlpoint_r_value_act     float64\n",
      " 74  extr_extr01_zone12_temp_r_value_act          float64\n",
      " 75  extr_extr01_zone12_temp_r_value_set          float64\n",
      " 76  extr_extr01_zone13_ctrlpoint_r_value_act     float64\n",
      " 77  extr_extr01_zone13_temp_r_value_act          float64\n",
      " 78  extr_extr01_zone13_temp_r_value_set          float64\n",
      " 79  extr_extr01_zone14_ctrlpoint_r_value_act     float64\n",
      " 80  extr_extr01_zone14_temp_r_value_act          float64\n",
      " 81  extr_extr01_zone14_temp_r_value_set          float64\n",
      " 82  extr_extr01_zone15_ctrlpoint_r_value_act     float64\n",
      " 83  extr_extr01_zone15_temp_r_value_act          float64\n",
      " 84  extr_extr01_zone15_temp_r_value_set          float64\n",
      " 85  extr_extr01_zone16_ctrlpoint_r_value_act     float64\n",
      " 86  extr_extr01_zone16_temp_r_value_act          float64\n",
      " 87  extr_extr01_zone16_temp_r_value_set          float64\n",
      " 88  article_type                                 object \n",
      " 89  order                                        object \n",
      " 90  recipe                                       object \n",
      " 91  basematerial                                 object \n",
      " 92  timecode                                     object \n",
      "dtypes: float64(87), int64(1), object(5)\n",
      "memory usage: 4.8+ GB\n"
     ]
    }
   ],
   "source": [
    "df.info()\n"
   ]
  },
  {
   "cell_type": "code",
   "execution_count": 6,
   "id": "092485a5",
   "metadata": {},
   "outputs": [
    {
     "data": {
      "text/plain": [
       "dose_grav01_hopper03_weight_r_value_act    5401969\n",
       "extr_extr01_funnel_active_r_value_act      5401959\n",
       "extr_extr01_screw_rotspeed_r_value_set     5401959\n",
       "extr_extr01_melt01_pressure_r_value_act    1398537\n",
       "segment_nr                                       0\n",
       "article_type                                     0\n",
       "order                                            0\n",
       "recipe                                           0\n",
       "basematerial                                     0\n",
       "timecode                                         0\n",
       "dtype: int64"
      ]
     },
     "execution_count": 6,
     "metadata": {},
     "output_type": "execute_result"
    }
   ],
   "source": [
    "df.isnull().sum().sort_values(ascending = False).tail(10)\n",
    "#gives number of null values in of each column"
   ]
  },
  {
   "cell_type": "code",
   "execution_count": 5,
   "id": "805c30e6",
   "metadata": {},
   "outputs": [],
   "source": [
    "covarianceMat = df.corr()"
   ]
  },
  {
   "cell_type": "code",
   "execution_count": 28,
   "id": "ea2c2e9e",
   "metadata": {},
   "outputs": [],
   "source": [
    "covarianceMat.to_excel('CovariaceMatrix.xlsx')\n"
   ]
  },
  {
   "cell_type": "code",
   "execution_count": 13,
   "id": "2d19334a",
   "metadata": {},
   "outputs": [],
   "source": [
    "correlationMat = covarianceMat / np.outer(np.sqrt(np.diag(covarianceMat)), np.sqrt(np.diag(covarianceMat)))"
   ]
  },
  {
   "cell_type": "code",
   "execution_count": 30,
   "id": "212afc32",
   "metadata": {},
   "outputs": [],
   "source": [
    "covarianceMatNorm.to_excel('covarianceMatNorm.xlsx')"
   ]
  },
  {
   "cell_type": "code",
   "execution_count": 6,
   "id": "1792f06e",
   "metadata": {},
   "outputs": [],
   "source": [
    "filteredcovarianceMatNorm = covarianceMat[(covarianceMat > 0.9) | (covarianceMat < -0.9)]"
   ]
  },
  {
   "cell_type": "code",
   "execution_count": 7,
   "id": "8ab2e405",
   "metadata": {},
   "outputs": [],
   "source": [
    "filteredcovarianceMatNorm.to_excel('filteredcovarianceMatNorm4.xlsx')"
   ]
  },
  {
   "cell_type": "markdown",
   "id": "d4acafdc",
   "metadata": {},
   "source": [
    "# EDA"
   ]
  },
  {
   "cell_type": "code",
   "execution_count": 8,
   "id": "89bc2611",
   "metadata": {},
   "outputs": [],
   "source": [
    "import seaborn as sns\n",
    "import matplotlib.pyplot as plt"
   ]
  },
  {
   "cell_type": "code",
   "execution_count": 5,
   "id": "139d6863",
   "metadata": {},
   "outputs": [
    {
     "data": {
      "text/html": [
       "<div>\n",
       "<style scoped>\n",
       "    .dataframe tbody tr th:only-of-type {\n",
       "        vertical-align: middle;\n",
       "    }\n",
       "\n",
       "    .dataframe tbody tr th {\n",
       "        vertical-align: top;\n",
       "    }\n",
       "\n",
       "    .dataframe thead th {\n",
       "        text-align: right;\n",
       "    }\n",
       "</style>\n",
       "<table border=\"1\" class=\"dataframe\">\n",
       "  <thead>\n",
       "    <tr style=\"text-align: right;\">\n",
       "      <th></th>\n",
       "      <th>dose_grav01_hopper01_mattemp_r_value_act</th>\n",
       "      <th>dose_grav01_hopper01_powerin_r_value_act</th>\n",
       "      <th>dose_grav01_hopper01_rotspeed_r_value_act</th>\n",
       "      <th>dose_grav01_hopper01_throughput_r_value_act</th>\n",
       "      <th>dose_grav01_hopper01_throughput_r_value_set</th>\n",
       "      <th>dose_grav01_hopper01_weight_r_value_act</th>\n",
       "      <th>dose_grav01_hopper02_mattemp_r_value_act</th>\n",
       "      <th>dose_grav01_hopper02_powerin_r_value_act</th>\n",
       "      <th>dose_grav01_hopper02_rotspeed_r_value_act</th>\n",
       "      <th>dose_grav01_hopper02_throughput_r_value_act</th>\n",
       "      <th>...</th>\n",
       "      <th>extr_extr01_zone13_temp_r_value_set</th>\n",
       "      <th>extr_extr01_zone14_ctrlpoint_r_value_act</th>\n",
       "      <th>extr_extr01_zone14_temp_r_value_act</th>\n",
       "      <th>extr_extr01_zone14_temp_r_value_set</th>\n",
       "      <th>extr_extr01_zone15_ctrlpoint_r_value_act</th>\n",
       "      <th>extr_extr01_zone15_temp_r_value_act</th>\n",
       "      <th>extr_extr01_zone15_temp_r_value_set</th>\n",
       "      <th>extr_extr01_zone16_ctrlpoint_r_value_act</th>\n",
       "      <th>extr_extr01_zone16_temp_r_value_act</th>\n",
       "      <th>extr_extr01_zone16_temp_r_value_set</th>\n",
       "    </tr>\n",
       "  </thead>\n",
       "  <tbody>\n",
       "    <tr>\n",
       "      <th>count</th>\n",
       "      <td>93575.000000</td>\n",
       "      <td>1.403371e+06</td>\n",
       "      <td>1.403371e+06</td>\n",
       "      <td>1.403371e+06</td>\n",
       "      <td>1.403371e+06</td>\n",
       "      <td>1.403371e+06</td>\n",
       "      <td>93575.000000</td>\n",
       "      <td>1.403371e+06</td>\n",
       "      <td>1.403371e+06</td>\n",
       "      <td>1.403371e+06</td>\n",
       "      <td>...</td>\n",
       "      <td>93564.000000</td>\n",
       "      <td>93564.0</td>\n",
       "      <td>93564.000000</td>\n",
       "      <td>93564.0</td>\n",
       "      <td>93564.0</td>\n",
       "      <td>93564.000000</td>\n",
       "      <td>93564.0</td>\n",
       "      <td>93564.0</td>\n",
       "      <td>93564.000000</td>\n",
       "      <td>93564.0</td>\n",
       "    </tr>\n",
       "    <tr>\n",
       "      <th>mean</th>\n",
       "      <td>26.074821</td>\n",
       "      <td>2.645891e+01</td>\n",
       "      <td>6.440329e+00</td>\n",
       "      <td>3.071544e+01</td>\n",
       "      <td>3.080968e+01</td>\n",
       "      <td>4.548404e+00</td>\n",
       "      <td>26.627479</td>\n",
       "      <td>2.709143e+00</td>\n",
       "      <td>1.109377e+00</td>\n",
       "      <td>5.357223e+00</td>\n",
       "      <td>...</td>\n",
       "      <td>55.135266</td>\n",
       "      <td>0.0</td>\n",
       "      <td>23.955709</td>\n",
       "      <td>0.0</td>\n",
       "      <td>0.0</td>\n",
       "      <td>35.679391</td>\n",
       "      <td>0.0</td>\n",
       "      <td>0.0</td>\n",
       "      <td>34.048500</td>\n",
       "      <td>0.0</td>\n",
       "    </tr>\n",
       "    <tr>\n",
       "      <th>std</th>\n",
       "      <td>2.512986</td>\n",
       "      <td>3.351321e+01</td>\n",
       "      <td>8.532261e+00</td>\n",
       "      <td>4.054494e+01</td>\n",
       "      <td>4.066328e+01</td>\n",
       "      <td>1.382999e+00</td>\n",
       "      <td>2.824922</td>\n",
       "      <td>1.347012e+01</td>\n",
       "      <td>5.637001e+00</td>\n",
       "      <td>2.708389e+01</td>\n",
       "      <td>...</td>\n",
       "      <td>89.986181</td>\n",
       "      <td>0.0</td>\n",
       "      <td>4.184607</td>\n",
       "      <td>0.0</td>\n",
       "      <td>0.0</td>\n",
       "      <td>4.430472</td>\n",
       "      <td>0.0</td>\n",
       "      <td>0.0</td>\n",
       "      <td>4.243543</td>\n",
       "      <td>0.0</td>\n",
       "    </tr>\n",
       "    <tr>\n",
       "      <th>min</th>\n",
       "      <td>0.000000</td>\n",
       "      <td>0.000000e+00</td>\n",
       "      <td>0.000000e+00</td>\n",
       "      <td>0.000000e+00</td>\n",
       "      <td>0.000000e+00</td>\n",
       "      <td>0.000000e+00</td>\n",
       "      <td>0.000000</td>\n",
       "      <td>0.000000e+00</td>\n",
       "      <td>0.000000e+00</td>\n",
       "      <td>0.000000e+00</td>\n",
       "      <td>...</td>\n",
       "      <td>0.000000</td>\n",
       "      <td>0.0</td>\n",
       "      <td>0.000000</td>\n",
       "      <td>0.0</td>\n",
       "      <td>0.0</td>\n",
       "      <td>0.000000</td>\n",
       "      <td>0.0</td>\n",
       "      <td>0.0</td>\n",
       "      <td>0.000000</td>\n",
       "      <td>0.0</td>\n",
       "    </tr>\n",
       "    <tr>\n",
       "      <th>25%</th>\n",
       "      <td>24.110000</td>\n",
       "      <td>0.000000e+00</td>\n",
       "      <td>0.000000e+00</td>\n",
       "      <td>0.000000e+00</td>\n",
       "      <td>0.000000e+00</td>\n",
       "      <td>3.570000e+00</td>\n",
       "      <td>24.610000</td>\n",
       "      <td>0.000000e+00</td>\n",
       "      <td>0.000000e+00</td>\n",
       "      <td>0.000000e+00</td>\n",
       "      <td>...</td>\n",
       "      <td>0.000000</td>\n",
       "      <td>0.0</td>\n",
       "      <td>22.400000</td>\n",
       "      <td>0.0</td>\n",
       "      <td>0.0</td>\n",
       "      <td>35.300000</td>\n",
       "      <td>0.0</td>\n",
       "      <td>0.0</td>\n",
       "      <td>33.600000</td>\n",
       "      <td>0.0</td>\n",
       "    </tr>\n",
       "    <tr>\n",
       "      <th>50%</th>\n",
       "      <td>25.730000</td>\n",
       "      <td>0.000000e+00</td>\n",
       "      <td>0.000000e+00</td>\n",
       "      <td>0.000000e+00</td>\n",
       "      <td>0.000000e+00</td>\n",
       "      <td>4.280000e+00</td>\n",
       "      <td>26.730000</td>\n",
       "      <td>0.000000e+00</td>\n",
       "      <td>0.000000e+00</td>\n",
       "      <td>0.000000e+00</td>\n",
       "      <td>...</td>\n",
       "      <td>0.000000</td>\n",
       "      <td>0.0</td>\n",
       "      <td>23.600000</td>\n",
       "      <td>0.0</td>\n",
       "      <td>0.0</td>\n",
       "      <td>36.000000</td>\n",
       "      <td>0.0</td>\n",
       "      <td>0.0</td>\n",
       "      <td>34.400000</td>\n",
       "      <td>0.0</td>\n",
       "    </tr>\n",
       "    <tr>\n",
       "      <th>75%</th>\n",
       "      <td>27.510000</td>\n",
       "      <td>6.884766e+01</td>\n",
       "      <td>1.480967e+01</td>\n",
       "      <td>7.150000e+01</td>\n",
       "      <td>7.142223e+01</td>\n",
       "      <td>5.750000e+00</td>\n",
       "      <td>28.310570</td>\n",
       "      <td>0.000000e+00</td>\n",
       "      <td>0.000000e+00</td>\n",
       "      <td>0.000000e+00</td>\n",
       "      <td>...</td>\n",
       "      <td>202.000000</td>\n",
       "      <td>0.0</td>\n",
       "      <td>24.900000</td>\n",
       "      <td>0.0</td>\n",
       "      <td>0.0</td>\n",
       "      <td>36.900000</td>\n",
       "      <td>0.0</td>\n",
       "      <td>0.0</td>\n",
       "      <td>35.300000</td>\n",
       "      <td>0.0</td>\n",
       "    </tr>\n",
       "    <tr>\n",
       "      <th>max</th>\n",
       "      <td>33.552578</td>\n",
       "      <td>1.807600e+02</td>\n",
       "      <td>3.647000e+01</td>\n",
       "      <td>1.748000e+02</td>\n",
       "      <td>1.822991e+02</td>\n",
       "      <td>1.111000e+01</td>\n",
       "      <td>34.231068</td>\n",
       "      <td>1.371100e+02</td>\n",
       "      <td>3.826000e+01</td>\n",
       "      <td>2.406000e+02</td>\n",
       "      <td>...</td>\n",
       "      <td>202.000000</td>\n",
       "      <td>0.0</td>\n",
       "      <td>38.000000</td>\n",
       "      <td>0.0</td>\n",
       "      <td>0.0</td>\n",
       "      <td>39.800000</td>\n",
       "      <td>0.0</td>\n",
       "      <td>0.0</td>\n",
       "      <td>38.200000</td>\n",
       "      <td>0.0</td>\n",
       "    </tr>\n",
       "  </tbody>\n",
       "</table>\n",
       "<p>8 rows × 88 columns</p>\n",
       "</div>"
      ],
      "text/plain": [
       "       dose_grav01_hopper01_mattemp_r_value_act  \\\n",
       "count                              93575.000000   \n",
       "mean                                  26.074821   \n",
       "std                                    2.512986   \n",
       "min                                    0.000000   \n",
       "25%                                   24.110000   \n",
       "50%                                   25.730000   \n",
       "75%                                   27.510000   \n",
       "max                                   33.552578   \n",
       "\n",
       "       dose_grav01_hopper01_powerin_r_value_act  \\\n",
       "count                              1.403371e+06   \n",
       "mean                               2.645891e+01   \n",
       "std                                3.351321e+01   \n",
       "min                                0.000000e+00   \n",
       "25%                                0.000000e+00   \n",
       "50%                                0.000000e+00   \n",
       "75%                                6.884766e+01   \n",
       "max                                1.807600e+02   \n",
       "\n",
       "       dose_grav01_hopper01_rotspeed_r_value_act  \\\n",
       "count                               1.403371e+06   \n",
       "mean                                6.440329e+00   \n",
       "std                                 8.532261e+00   \n",
       "min                                 0.000000e+00   \n",
       "25%                                 0.000000e+00   \n",
       "50%                                 0.000000e+00   \n",
       "75%                                 1.480967e+01   \n",
       "max                                 3.647000e+01   \n",
       "\n",
       "       dose_grav01_hopper01_throughput_r_value_act  \\\n",
       "count                                 1.403371e+06   \n",
       "mean                                  3.071544e+01   \n",
       "std                                   4.054494e+01   \n",
       "min                                   0.000000e+00   \n",
       "25%                                   0.000000e+00   \n",
       "50%                                   0.000000e+00   \n",
       "75%                                   7.150000e+01   \n",
       "max                                   1.748000e+02   \n",
       "\n",
       "       dose_grav01_hopper01_throughput_r_value_set  \\\n",
       "count                                 1.403371e+06   \n",
       "mean                                  3.080968e+01   \n",
       "std                                   4.066328e+01   \n",
       "min                                   0.000000e+00   \n",
       "25%                                   0.000000e+00   \n",
       "50%                                   0.000000e+00   \n",
       "75%                                   7.142223e+01   \n",
       "max                                   1.822991e+02   \n",
       "\n",
       "       dose_grav01_hopper01_weight_r_value_act  \\\n",
       "count                             1.403371e+06   \n",
       "mean                              4.548404e+00   \n",
       "std                               1.382999e+00   \n",
       "min                               0.000000e+00   \n",
       "25%                               3.570000e+00   \n",
       "50%                               4.280000e+00   \n",
       "75%                               5.750000e+00   \n",
       "max                               1.111000e+01   \n",
       "\n",
       "       dose_grav01_hopper02_mattemp_r_value_act  \\\n",
       "count                              93575.000000   \n",
       "mean                                  26.627479   \n",
       "std                                    2.824922   \n",
       "min                                    0.000000   \n",
       "25%                                   24.610000   \n",
       "50%                                   26.730000   \n",
       "75%                                   28.310570   \n",
       "max                                   34.231068   \n",
       "\n",
       "       dose_grav01_hopper02_powerin_r_value_act  \\\n",
       "count                              1.403371e+06   \n",
       "mean                               2.709143e+00   \n",
       "std                                1.347012e+01   \n",
       "min                                0.000000e+00   \n",
       "25%                                0.000000e+00   \n",
       "50%                                0.000000e+00   \n",
       "75%                                0.000000e+00   \n",
       "max                                1.371100e+02   \n",
       "\n",
       "       dose_grav01_hopper02_rotspeed_r_value_act  \\\n",
       "count                               1.403371e+06   \n",
       "mean                                1.109377e+00   \n",
       "std                                 5.637001e+00   \n",
       "min                                 0.000000e+00   \n",
       "25%                                 0.000000e+00   \n",
       "50%                                 0.000000e+00   \n",
       "75%                                 0.000000e+00   \n",
       "max                                 3.826000e+01   \n",
       "\n",
       "       dose_grav01_hopper02_throughput_r_value_act  ...  \\\n",
       "count                                 1.403371e+06  ...   \n",
       "mean                                  5.357223e+00  ...   \n",
       "std                                   2.708389e+01  ...   \n",
       "min                                   0.000000e+00  ...   \n",
       "25%                                   0.000000e+00  ...   \n",
       "50%                                   0.000000e+00  ...   \n",
       "75%                                   0.000000e+00  ...   \n",
       "max                                   2.406000e+02  ...   \n",
       "\n",
       "       extr_extr01_zone13_temp_r_value_set  \\\n",
       "count                         93564.000000   \n",
       "mean                             55.135266   \n",
       "std                              89.986181   \n",
       "min                               0.000000   \n",
       "25%                               0.000000   \n",
       "50%                               0.000000   \n",
       "75%                             202.000000   \n",
       "max                             202.000000   \n",
       "\n",
       "       extr_extr01_zone14_ctrlpoint_r_value_act  \\\n",
       "count                                   93564.0   \n",
       "mean                                        0.0   \n",
       "std                                         0.0   \n",
       "min                                         0.0   \n",
       "25%                                         0.0   \n",
       "50%                                         0.0   \n",
       "75%                                         0.0   \n",
       "max                                         0.0   \n",
       "\n",
       "       extr_extr01_zone14_temp_r_value_act  \\\n",
       "count                         93564.000000   \n",
       "mean                             23.955709   \n",
       "std                               4.184607   \n",
       "min                               0.000000   \n",
       "25%                              22.400000   \n",
       "50%                              23.600000   \n",
       "75%                              24.900000   \n",
       "max                              38.000000   \n",
       "\n",
       "       extr_extr01_zone14_temp_r_value_set  \\\n",
       "count                              93564.0   \n",
       "mean                                   0.0   \n",
       "std                                    0.0   \n",
       "min                                    0.0   \n",
       "25%                                    0.0   \n",
       "50%                                    0.0   \n",
       "75%                                    0.0   \n",
       "max                                    0.0   \n",
       "\n",
       "       extr_extr01_zone15_ctrlpoint_r_value_act  \\\n",
       "count                                   93564.0   \n",
       "mean                                        0.0   \n",
       "std                                         0.0   \n",
       "min                                         0.0   \n",
       "25%                                         0.0   \n",
       "50%                                         0.0   \n",
       "75%                                         0.0   \n",
       "max                                         0.0   \n",
       "\n",
       "       extr_extr01_zone15_temp_r_value_act  \\\n",
       "count                         93564.000000   \n",
       "mean                             35.679391   \n",
       "std                               4.430472   \n",
       "min                               0.000000   \n",
       "25%                              35.300000   \n",
       "50%                              36.000000   \n",
       "75%                              36.900000   \n",
       "max                              39.800000   \n",
       "\n",
       "       extr_extr01_zone15_temp_r_value_set  \\\n",
       "count                              93564.0   \n",
       "mean                                   0.0   \n",
       "std                                    0.0   \n",
       "min                                    0.0   \n",
       "25%                                    0.0   \n",
       "50%                                    0.0   \n",
       "75%                                    0.0   \n",
       "max                                    0.0   \n",
       "\n",
       "       extr_extr01_zone16_ctrlpoint_r_value_act  \\\n",
       "count                                   93564.0   \n",
       "mean                                        0.0   \n",
       "std                                         0.0   \n",
       "min                                         0.0   \n",
       "25%                                         0.0   \n",
       "50%                                         0.0   \n",
       "75%                                         0.0   \n",
       "max                                         0.0   \n",
       "\n",
       "       extr_extr01_zone16_temp_r_value_act  \\\n",
       "count                         93564.000000   \n",
       "mean                             34.048500   \n",
       "std                               4.243543   \n",
       "min                               0.000000   \n",
       "25%                              33.600000   \n",
       "50%                              34.400000   \n",
       "75%                              35.300000   \n",
       "max                              38.200000   \n",
       "\n",
       "       extr_extr01_zone16_temp_r_value_set  \n",
       "count                              93564.0  \n",
       "mean                                   0.0  \n",
       "std                                    0.0  \n",
       "min                                    0.0  \n",
       "25%                                    0.0  \n",
       "50%                                    0.0  \n",
       "75%                                    0.0  \n",
       "max                                    0.0  \n",
       "\n",
       "[8 rows x 88 columns]"
      ]
     },
     "execution_count": 5,
     "metadata": {},
     "output_type": "execute_result"
    }
   ],
   "source": [
    "df.describe()\n"
   ]
  },
  {
   "cell_type": "code",
   "execution_count": 6,
   "id": "315efb26",
   "metadata": {},
   "outputs": [],
   "source": [
    "description_datacols = df.describe()\n",
    "description_datacols.to_excel('description_datacols.xlsx')"
   ]
  },
  {
   "cell_type": "code",
   "execution_count": 11,
   "id": "502d3592",
   "metadata": {},
   "outputs": [
    {
     "data": {
      "text/plain": [
       "dose_grav01_hopper01_mattemp_r_value_act          881\n",
       "dose_grav01_hopper01_powerin_r_value_act          104\n",
       "dose_grav01_hopper01_rotspeed_r_value_act      117840\n",
       "dose_grav01_hopper01_throughput_r_value_act       711\n",
       "dose_grav01_hopper01_throughput_r_value_set     63595\n",
       "dose_grav01_hopper01_weight_r_value_act           905\n",
       "dose_grav01_hopper02_mattemp_r_value_act         1082\n",
       "dose_grav01_hopper02_powerin_r_value_act          127\n",
       "dose_grav01_hopper02_rotspeed_r_value_act       22967\n",
       "dose_grav01_hopper02_throughput_r_value_act       307\n",
       "dose_grav01_hopper02_throughput_r_value_set     12638\n",
       "dose_grav01_hopper02_weight_r_value_act           619\n",
       "dose_grav01_hopper03_mattemp_r_value_act          843\n",
       "dose_grav01_hopper03_powerin_r_value_act           91\n",
       "dose_grav01_hopper03_rotspeed_r_value_act      126968\n",
       "dose_grav01_hopper03_throughput_r_value_act       287\n",
       "dose_grav01_hopper03_throughput_r_value_set      1577\n",
       "dose_grav01_hopper03_weight_r_value_act           708\n",
       "dose_grav01_hopper04_mattemp_r_value_act          762\n",
       "dose_grav01_hopper04_powerin_r_value_act           93\n",
       "dose_grav01_hopper04_rotspeed_r_value_act      220590\n",
       "dose_grav01_hopper04_throughput_r_value_act      1058\n",
       "dose_grav01_hopper04_throughput_r_value_set     36608\n",
       "dose_grav01_hopper04_weight_r_value_act           756\n",
       "dose_grav01_hopper05_mattemp_r_value_act            3\n",
       "dose_grav01_hopper05_powerin_r_value_act           92\n",
       "dose_grav01_hopper05_rotspeed_r_value_act      180088\n",
       "dose_grav01_hopper05_throughput_r_value_act       303\n",
       "dose_grav01_hopper05_throughput_r_value_set         1\n",
       "dose_grav01_hopper05_weight_r_value_act          1713\n",
       "dose_grav01_total_throughput_r_value_act         2022\n",
       "dose_grav01_total_throughput_r_value_set       117114\n",
       "extr_extr01_funnel_active_r_value_act               2\n",
       "extr_extr01_melt01_pressure_r_value_act          1624\n",
       "extr_extr01_melt01_temp_r_value_act              1628\n",
       "extr_extr01_screw_load_r_value_act                810\n",
       "extr_extr01_screw_rotspeed_r_value_act            271\n",
       "extr_extr01_screw_rotspeed_r_value_set             55\n",
       "extr_extr01_vacuum_r_value_act                   3537\n",
       "segment_nr                                        240\n",
       "extr_extr01_zone01_ctrlpoint_r_value_act          349\n",
       "extr_extr01_zone01_temp_r_value_act               994\n",
       "extr_extr01_zone01_temp_r_value_set                 6\n",
       "extr_extr01_zone02_ctrlpoint_r_value_act          341\n",
       "extr_extr01_zone02_temp_r_value_act               951\n",
       "extr_extr01_zone02_temp_r_value_set                 5\n",
       "extr_extr01_zone03_ctrlpoint_r_value_act         1124\n",
       "extr_extr01_zone03_temp_r_value_act              1008\n",
       "extr_extr01_zone03_temp_r_value_set                 5\n",
       "extr_extr01_zone04_ctrlpoint_r_value_act         1241\n",
       "extr_extr01_zone04_temp_r_value_act               982\n",
       "extr_extr01_zone04_temp_r_value_set                 5\n",
       "extr_extr01_zone05_ctrlpoint_r_value_act          550\n",
       "extr_extr01_zone05_temp_r_value_act              1018\n",
       "extr_extr01_zone05_temp_r_value_set                 4\n",
       "extr_extr01_zone06_ctrlpoint_r_value_act          883\n",
       "extr_extr01_zone06_temp_r_value_act               973\n",
       "extr_extr01_zone06_temp_r_value_set                 6\n",
       "extr_extr01_zone07_ctrlpoint_r_value_act         1174\n",
       "extr_extr01_zone07_temp_r_value_act              1109\n",
       "extr_extr01_zone07_temp_r_value_set                 4\n",
       "extr_extr01_zone08_ctrlpoint_r_value_act          509\n",
       "extr_extr01_zone08_temp_r_value_act              1037\n",
       "extr_extr01_zone08_temp_r_value_set                 4\n",
       "extr_extr01_zone09_ctrlpoint_r_value_act          543\n",
       "extr_extr01_zone09_temp_r_value_act               458\n",
       "extr_extr01_zone09_temp_r_value_set                 6\n",
       "extr_extr01_zone10_ctrlpoint_r_value_act          481\n",
       "extr_extr01_zone10_temp_r_value_act               469\n",
       "extr_extr01_zone10_temp_r_value_set                 5\n",
       "extr_extr01_zone11_ctrlpoint_r_value_act          466\n",
       "extr_extr01_zone11_temp_r_value_act               426\n",
       "extr_extr01_zone11_temp_r_value_set                 6\n",
       "extr_extr01_zone12_ctrlpoint_r_value_act          444\n",
       "extr_extr01_zone12_temp_r_value_act               452\n",
       "extr_extr01_zone12_temp_r_value_set                 5\n",
       "extr_extr01_zone13_ctrlpoint_r_value_act          575\n",
       "extr_extr01_zone13_temp_r_value_act               407\n",
       "extr_extr01_zone13_temp_r_value_set                 2\n",
       "extr_extr01_zone14_ctrlpoint_r_value_act            1\n",
       "extr_extr01_zone14_temp_r_value_act               190\n",
       "extr_extr01_zone14_temp_r_value_set                 1\n",
       "extr_extr01_zone15_ctrlpoint_r_value_act            1\n",
       "extr_extr01_zone15_temp_r_value_act                73\n",
       "extr_extr01_zone15_temp_r_value_set                 1\n",
       "extr_extr01_zone16_ctrlpoint_r_value_act            1\n",
       "extr_extr01_zone16_temp_r_value_act                70\n",
       "extr_extr01_zone16_temp_r_value_set                 1\n",
       "article_type                                        7\n",
       "order                                              33\n",
       "recipe                                              6\n",
       "basematerial                                        2\n",
       "timecode                                           10\n",
       "dtype: int64"
      ]
     },
     "execution_count": 11,
     "metadata": {},
     "output_type": "execute_result"
    }
   ],
   "source": [
    "df.nunique()"
   ]
  },
  {
   "cell_type": "code",
   "execution_count": 30,
   "id": "8fe70041",
   "metadata": {},
   "outputs": [
    {
     "data": {
      "text/plain": [
       "count   5406803.00000\n",
       "mean        223.91418\n",
       "std          54.02763\n",
       "min           0.00000\n",
       "25%         217.40000\n",
       "50%         239.00000\n",
       "75%         245.60000\n",
       "max         291.60000\n",
       "Name: extr_extr01_melt01_pressure_r_value_act, dtype: float64"
      ]
     },
     "execution_count": 30,
     "metadata": {},
     "output_type": "execute_result"
    }
   ],
   "source": [
    "df['extr_extr01_melt01_pressure_r_value_act'].describe()"
   ]
  },
  {
   "cell_type": "code",
   "execution_count": 28,
   "id": "a1060c85",
   "metadata": {},
   "outputs": [
    {
     "data": {
      "text/plain": [
       "count   1403093.00000\n",
       "mean        193.22876\n",
       "std          30.01453\n",
       "min           0.00000\n",
       "25%         198.10000\n",
       "50%         199.30000\n",
       "75%         200.50000\n",
       "max         204.40000\n",
       "Name: extr_extr01_melt01_temp_r_value_act, dtype: float64"
      ]
     },
     "execution_count": 28,
     "metadata": {},
     "output_type": "execute_result"
    }
   ],
   "source": [
    "\n",
    "df['extr_extr01_melt01_temp_r_value_act'].describe()"
   ]
  },
  {
   "cell_type": "code",
   "execution_count": 31,
   "id": "862a3e1b",
   "metadata": {},
   "outputs": [
    {
     "data": {
      "text/plain": [
       "count   1403095.00000\n",
       "mean         56.84679\n",
       "std          15.26071\n",
       "min           0.00000\n",
       "25%          49.50000\n",
       "50%          59.00000\n",
       "75%          68.40000\n",
       "max          89.30000\n",
       "Name: extr_extr01_screw_load_r_value_act, dtype: float64"
      ]
     },
     "execution_count": 31,
     "metadata": {},
     "output_type": "execute_result"
    }
   ],
   "source": [
    "\n",
    "df['extr_extr01_screw_load_r_value_act'].describe()"
   ]
  },
  {
   "cell_type": "code",
   "execution_count": 33,
   "id": "d23fb038",
   "metadata": {},
   "outputs": [
    {
     "data": {
      "text/plain": [
       "count   1403093.00000\n",
       "mean        851.28779\n",
       "std         195.98885\n",
       "min           0.00000\n",
       "25%         884.20000\n",
       "50%         897.20000\n",
       "75%         908.00000\n",
       "max         998.10000\n",
       "Name: extr_extr01_vacuum_r_value_act, dtype: float64"
      ]
     },
     "execution_count": 33,
     "metadata": {},
     "output_type": "execute_result"
    }
   ],
   "source": [
    "\n",
    "df['extr_extr01_vacuum_r_value_act'].describe()"
   ]
  },
  {
   "cell_type": "code",
   "execution_count": 34,
   "id": "cda8040c",
   "metadata": {},
   "outputs": [
    {
     "data": {
      "text/plain": [
       "count   1403095.00000\n",
       "mean         18.51246\n",
       "std           4.43080\n",
       "min           0.00000\n",
       "25%          18.51000\n",
       "50%          18.51000\n",
       "75%          18.81000\n",
       "max          25.01000\n",
       "Name: extr_extr01_screw_rotspeed_r_value_act, dtype: float64"
      ]
     },
     "execution_count": 34,
     "metadata": {},
     "output_type": "execute_result"
    }
   ],
   "source": [
    "\n",
    "df['extr_extr01_screw_rotspeed_r_value_act'].describe()"
   ]
  },
  {
   "cell_type": "code",
   "execution_count": 36,
   "id": "bd71d007",
   "metadata": {},
   "outputs": [
    {
     "data": {
      "text/plain": [
       "count   1403381.00000\n",
       "mean         18.50502\n",
       "std           4.42935\n",
       "min           0.00000\n",
       "25%          18.50000\n",
       "50%          18.50000\n",
       "75%          18.80000\n",
       "max          25.00000\n",
       "Name: extr_extr01_screw_rotspeed_r_value_set, dtype: float64"
      ]
     },
     "execution_count": 36,
     "metadata": {},
     "output_type": "execute_result"
    }
   ],
   "source": [
    "\n",
    "df['extr_extr01_screw_rotspeed_r_value_set'].describe()"
   ]
  },
  {
   "cell_type": "code",
   "execution_count": 44,
   "id": "17fbe3d3",
   "metadata": {},
   "outputs": [
    {
     "data": {
      "text/plain": [
       "<AxesSubplot:xlabel='recipe', ylabel='extr_extr01_melt01_temp_r_value_act'>"
      ]
     },
     "execution_count": 44,
     "metadata": {},
     "output_type": "execute_result"
    },
    {
     "data": {
      "image/png": "[encoded data removed]",
      "text/plain": [
       "<Figure size 640x480 with 1 Axes>"
      ]
     },
     "metadata": {},
     "output_type": "display_data"
    }
   ],
   "source": [
    "# Create a scatter plot using seaborn\n",
    "sns.scatterplot(y=df['extr_extr01_melt01_temp_r_value_act'], x=df['recipe'])"
   ]
  },
  {
   "cell_type": "code",
   "execution_count": 3,
   "id": "99034b3f",
   "metadata": {},
   "outputs": [
    {
     "data": {
      "text/plain": [
       "<AxesSubplot:xlabel='article_type', ylabel='extr_extr01_melt01_pressure_r_value_act'>"
      ]
     },
     "execution_count": 3,
     "metadata": {},
     "output_type": "execute_result"
    },
    {
     "data": {
      "image/png": "[encoded data removed]",
      "text/plain": [
       "<Figure size 640x480 with 1 Axes>"
      ]
     },
     "metadata": {},
     "output_type": "display_data"
    }
   ],
   "source": [
    "sns.scatterplot(y=df['extr_extr01_melt01_pressure_r_value_act'], x=df['article_type'])"
   ]
  },
  {
   "cell_type": "code",
   "execution_count": 10,
   "id": "69b320ee",
   "metadata": {},
   "outputs": [],
   "source": [
    "#heapmap of correlation matrix\n",
    "#sns.heatmap(df.corr(), annot = True)\n",
    "\n",
    "#sns.heatmap(filteredcovarianceMatNorm, annot = True)\n",
    "#plt.rc.Params['figure.figsize'] = (20,10)\n",
    "#plt.show()"
   ]
  },
  {
   "cell_type": "code",
   "execution_count": 11,
   "id": "a3bb6158",
   "metadata": {},
   "outputs": [],
   "source": [
    "#to find dataframe with a fixed value\n",
    "# df[df['colname'].str.contains('value')]"
   ]
  },
  {
   "cell_type": "markdown",
   "id": "36bb4705",
   "metadata": {},
   "source": [
    "## The df2=df.groupby(colname)[df.columns[5:10]].mean().sort_values(by=\"colname\") operation in pandas is used to group a DataFrame (df) by a specified column (colname) and calculate the mean (average) of each group and then sort by the colname \n",
    "df.plot()"
   ]
  },
  {
   "cell_type": "code",
   "execution_count": 12,
   "id": "cd4134cb",
   "metadata": {},
   "outputs": [],
   "source": [
    "#sort\n",
    "#df.sortvalues(by=\"colname\").head(10)"
   ]
  },
  {
   "cell_type": "code",
   "execution_count": 19,
   "id": "1d32b39b",
   "metadata": {},
   "outputs": [
    {
     "data": {
      "text/html": [
       "<div>\n",
       "<style scoped>\n",
       "    .dataframe tbody tr th:only-of-type {\n",
       "        vertical-align: middle;\n",
       "    }\n",
       "\n",
       "    .dataframe tbody tr th {\n",
       "        vertical-align: top;\n",
       "    }\n",
       "\n",
       "    .dataframe thead th {\n",
       "        text-align: right;\n",
       "    }\n",
       "</style>\n",
       "<table border=\"1\" class=\"dataframe\">\n",
       "  <thead>\n",
       "    <tr style=\"text-align: right;\">\n",
       "      <th></th>\n",
       "      <th>article_type</th>\n",
       "      <th>0</th>\n",
       "      <th>1</th>\n",
       "      <th>2</th>\n",
       "      <th>3</th>\n",
       "      <th>4</th>\n",
       "      <th>5</th>\n",
       "      <th>6</th>\n",
       "    </tr>\n",
       "  </thead>\n",
       "  <tbody>\n",
       "    <tr>\n",
       "      <th rowspan=\"2\" valign=\"top\">dose_grav01_hopper01_mattemp_r_value_act</th>\n",
       "      <th>count</th>\n",
       "      <td>10571.00000</td>\n",
       "      <td>4811.00000</td>\n",
       "      <td>46108.00000</td>\n",
       "      <td>537.00000</td>\n",
       "      <td>5583.00000</td>\n",
       "      <td>5218.00000</td>\n",
       "      <td>20747.00000</td>\n",
       "    </tr>\n",
       "    <tr>\n",
       "      <th>mean</th>\n",
       "      <td>27.44161</td>\n",
       "      <td>25.02747</td>\n",
       "      <td>26.57402</td>\n",
       "      <td>24.05918</td>\n",
       "      <td>23.41500</td>\n",
       "      <td>26.39973</td>\n",
       "      <td>25.19809</td>\n",
       "    </tr>\n",
       "  </tbody>\n",
       "</table>\n",
       "</div>"
      ],
      "text/plain": [
       "article_type                                             0          1  \\\n",
       "dose_grav01_hopper01_mattemp_r_value_act count 10571.00000 4811.00000   \n",
       "                                         mean     27.44161   25.02747   \n",
       "\n",
       "article_type                                             2         3  \\\n",
       "dose_grav01_hopper01_mattemp_r_value_act count 46108.00000 537.00000   \n",
       "                                         mean     26.57402  24.05918   \n",
       "\n",
       "article_type                                            4          5  \\\n",
       "dose_grav01_hopper01_mattemp_r_value_act count 5583.00000 5218.00000   \n",
       "                                         mean    23.41500   26.39973   \n",
       "\n",
       "article_type                                             6  \n",
       "dose_grav01_hopper01_mattemp_r_value_act count 20747.00000  \n",
       "                                         mean     25.19809  "
      ]
     },
     "execution_count": 19,
     "metadata": {},
     "output_type": "execute_result"
    }
   ],
   "source": [
    "df.groupby(\"article_type\").describe().transpose()"
   ]
  },
  {
   "cell_type": "code",
   "execution_count": 19,
   "id": "4d3c6f64",
   "metadata": {},
   "outputs": [],
   "source": [
    "df_copy = df[df['timecode'] == '0']"
   ]
  },
  {
   "cell_type": "code",
   "execution_count": 20,
   "id": "08f9f996",
   "metadata": {},
   "outputs": [],
   "source": [
    "selected_columns = ['article_type', 'extr_extr01_melt01_pressure_r_value_act', 'extr_extr01_melt01_temp_r_value_act', 'extr_extr01_screw_load_r_value_act', 'extr_extr01_vacuum_r_value_act', 'extr_extr01_screw_rotspeed_r_value_act']"
   ]
  },
  {
   "cell_type": "code",
   "execution_count": 28,
   "id": "9f45e364",
   "metadata": {},
   "outputs": [],
   "source": [
    "df_new = df[selected_columns]"
   ]
  },
  {
   "cell_type": "code",
   "execution_count": 22,
   "id": "02eacccd",
   "metadata": {},
   "outputs": [
    {
     "name": "stdout",
     "output_type": "stream",
     "text": [
      "Index(['article_type', 'order', 'recipe', 'basematerial', 'segment_nr',\n",
      "       'extr_extr01_melt01_pressure_r_value_act',\n",
      "       'extr_extr01_melt01_temp_r_value_act',\n",
      "       'extr_extr01_screw_load_r_value_act', 'extr_extr01_vacuum_r_value_act',\n",
      "       'extr_extr01_screw_rotspeed_r_value_act'],\n",
      "      dtype='object')\n"
     ]
    }
   ],
   "source": [
    "print(df_new.columns)"
   ]
  },
  {
   "cell_type": "code",
   "execution_count": 27,
   "id": "0a3e40bf",
   "metadata": {
    "scrolled": true
   },
   "outputs": [
    {
     "name": "stdout",
     "output_type": "stream",
     "text": [
      "                 count       mean       std    min    25%    50%    75%    max\n",
      "article_type                                                                  \n",
      "0             158552.0  20.924393  6.790754   0.00  22.31  23.50  23.50  25.01\n",
      "1              72159.0  18.665724  0.083598  18.50  18.71  18.71  18.71  18.71\n",
      "2             691418.0  17.963780  3.091085   0.00  18.50  18.51  18.51  18.71\n",
      "3               8059.0  21.602504  0.004338  21.59  21.60  21.60  21.61  21.61\n",
      "4              83733.0  21.607517  0.030608  16.08  21.60  21.60  21.60  21.71\n",
      "5              78262.0  21.705755  0.298263   0.00  21.71  21.71  21.71  21.71\n",
      "6             310912.0  16.749644  5.627062   0.00  18.61  18.61  18.61  25.01\n"
     ]
    }
   ],
   "source": [
    "grouped_by_article_type = df_new.groupby(\"article_type\")['extr_extr01_screw_rotspeed_r_value_act'].describe()\n",
    "print(grouped_by_article_type)"
   ]
  },
  {
   "cell_type": "code",
   "execution_count": null,
   "id": "e7c5a9be",
   "metadata": {},
   "outputs": [],
   "source": []
  },
  {
   "cell_type": "code",
   "execution_count": 28,
   "id": "c62045d3",
   "metadata": {},
   "outputs": [
    {
     "ename": "KeyError",
     "evalue": "'article_type'",
     "output_type": "error",
     "traceback": [
      "\u001b[1;31m---------------------------------------------------------------------------\u001b[0m",
      "\u001b[1;31mKeyError\u001b[0m                                  Traceback (most recent call last)",
      "Cell \u001b[1;32mIn [28], line 1\u001b[0m\n\u001b[1;32m----> 1\u001b[0m grouped \u001b[38;5;241m=\u001b[39m \u001b[43mdf_new\u001b[49m\u001b[38;5;241;43m.\u001b[39;49m\u001b[43mgroupby\u001b[49m\u001b[43m(\u001b[49m\u001b[38;5;124;43m'\u001b[39;49m\u001b[38;5;124;43marticle_type\u001b[39;49m\u001b[38;5;124;43m'\u001b[39;49m\u001b[43m)\u001b[49m[\u001b[38;5;124m'\u001b[39m\u001b[38;5;124mextr_extr01_melt01_temp_r_value_act\u001b[39m\u001b[38;5;124m'\u001b[39m]\n\u001b[0;32m      3\u001b[0m \u001b[38;5;66;03m# Calculate statistical description for each group\u001b[39;00m\n\u001b[0;32m      4\u001b[0m description_by_article_type \u001b[38;5;241m=\u001b[39m grouped\u001b[38;5;241m.\u001b[39mdescribe()\n",
      "File \u001b[1;32m~\\anaconda3\\lib\\site-packages\\pandas\\core\\frame.py:8869\u001b[0m, in \u001b[0;36mDataFrame.groupby\u001b[1;34m(self, by, axis, level, as_index, sort, group_keys, observed, dropna)\u001b[0m\n\u001b[0;32m   8866\u001b[0m \u001b[38;5;28;01mif\u001b[39;00m level \u001b[38;5;129;01mis\u001b[39;00m \u001b[38;5;28;01mNone\u001b[39;00m \u001b[38;5;129;01mand\u001b[39;00m by \u001b[38;5;129;01mis\u001b[39;00m \u001b[38;5;28;01mNone\u001b[39;00m:\n\u001b[0;32m   8867\u001b[0m     \u001b[38;5;28;01mraise\u001b[39;00m \u001b[38;5;167;01mTypeError\u001b[39;00m(\u001b[38;5;124m\"\u001b[39m\u001b[38;5;124mYou have to supply one of \u001b[39m\u001b[38;5;124m'\u001b[39m\u001b[38;5;124mby\u001b[39m\u001b[38;5;124m'\u001b[39m\u001b[38;5;124m and \u001b[39m\u001b[38;5;124m'\u001b[39m\u001b[38;5;124mlevel\u001b[39m\u001b[38;5;124m'\u001b[39m\u001b[38;5;124m\"\u001b[39m)\n\u001b[1;32m-> 8869\u001b[0m \u001b[38;5;28;01mreturn\u001b[39;00m \u001b[43mDataFrameGroupBy\u001b[49m\u001b[43m(\u001b[49m\n\u001b[0;32m   8870\u001b[0m \u001b[43m    \u001b[49m\u001b[43mobj\u001b[49m\u001b[38;5;241;43m=\u001b[39;49m\u001b[38;5;28;43mself\u001b[39;49m\u001b[43m,\u001b[49m\n\u001b[0;32m   8871\u001b[0m \u001b[43m    \u001b[49m\u001b[43mkeys\u001b[49m\u001b[38;5;241;43m=\u001b[39;49m\u001b[43mby\u001b[49m\u001b[43m,\u001b[49m\n\u001b[0;32m   8872\u001b[0m \u001b[43m    \u001b[49m\u001b[43maxis\u001b[49m\u001b[38;5;241;43m=\u001b[39;49m\u001b[43maxis\u001b[49m\u001b[43m,\u001b[49m\n\u001b[0;32m   8873\u001b[0m \u001b[43m    \u001b[49m\u001b[43mlevel\u001b[49m\u001b[38;5;241;43m=\u001b[39;49m\u001b[43mlevel\u001b[49m\u001b[43m,\u001b[49m\n\u001b[0;32m   8874\u001b[0m \u001b[43m    \u001b[49m\u001b[43mas_index\u001b[49m\u001b[38;5;241;43m=\u001b[39;49m\u001b[43mas_index\u001b[49m\u001b[43m,\u001b[49m\n\u001b[0;32m   8875\u001b[0m \u001b[43m    \u001b[49m\u001b[43msort\u001b[49m\u001b[38;5;241;43m=\u001b[39;49m\u001b[43msort\u001b[49m\u001b[43m,\u001b[49m\n\u001b[0;32m   8876\u001b[0m \u001b[43m    \u001b[49m\u001b[43mgroup_keys\u001b[49m\u001b[38;5;241;43m=\u001b[39;49m\u001b[43mgroup_keys\u001b[49m\u001b[43m,\u001b[49m\n\u001b[0;32m   8877\u001b[0m \u001b[43m    \u001b[49m\u001b[43mobserved\u001b[49m\u001b[38;5;241;43m=\u001b[39;49m\u001b[43mobserved\u001b[49m\u001b[43m,\u001b[49m\n\u001b[0;32m   8878\u001b[0m \u001b[43m    \u001b[49m\u001b[43mdropna\u001b[49m\u001b[38;5;241;43m=\u001b[39;49m\u001b[43mdropna\u001b[49m\u001b[43m,\u001b[49m\n\u001b[0;32m   8879\u001b[0m \u001b[43m\u001b[49m\u001b[43m)\u001b[49m\n",
      "File \u001b[1;32m~\\anaconda3\\lib\\site-packages\\pandas\\core\\groupby\\groupby.py:1278\u001b[0m, in \u001b[0;36mGroupBy.__init__\u001b[1;34m(self, obj, keys, axis, level, grouper, exclusions, selection, as_index, sort, group_keys, observed, dropna)\u001b[0m\n\u001b[0;32m   1275\u001b[0m \u001b[38;5;28mself\u001b[39m\u001b[38;5;241m.\u001b[39mdropna \u001b[38;5;241m=\u001b[39m dropna\n\u001b[0;32m   1277\u001b[0m \u001b[38;5;28;01mif\u001b[39;00m grouper \u001b[38;5;129;01mis\u001b[39;00m \u001b[38;5;28;01mNone\u001b[39;00m:\n\u001b[1;32m-> 1278\u001b[0m     grouper, exclusions, obj \u001b[38;5;241m=\u001b[39m \u001b[43mget_grouper\u001b[49m\u001b[43m(\u001b[49m\n\u001b[0;32m   1279\u001b[0m \u001b[43m        \u001b[49m\u001b[43mobj\u001b[49m\u001b[43m,\u001b[49m\n\u001b[0;32m   1280\u001b[0m \u001b[43m        \u001b[49m\u001b[43mkeys\u001b[49m\u001b[43m,\u001b[49m\n\u001b[0;32m   1281\u001b[0m \u001b[43m        \u001b[49m\u001b[43maxis\u001b[49m\u001b[38;5;241;43m=\u001b[39;49m\u001b[43maxis\u001b[49m\u001b[43m,\u001b[49m\n\u001b[0;32m   1282\u001b[0m \u001b[43m        \u001b[49m\u001b[43mlevel\u001b[49m\u001b[38;5;241;43m=\u001b[39;49m\u001b[43mlevel\u001b[49m\u001b[43m,\u001b[49m\n\u001b[0;32m   1283\u001b[0m \u001b[43m        \u001b[49m\u001b[43msort\u001b[49m\u001b[38;5;241;43m=\u001b[39;49m\u001b[43msort\u001b[49m\u001b[43m,\u001b[49m\n\u001b[0;32m   1284\u001b[0m \u001b[43m        \u001b[49m\u001b[43mobserved\u001b[49m\u001b[38;5;241;43m=\u001b[39;49m\u001b[38;5;28;43;01mFalse\u001b[39;49;00m\u001b[43m \u001b[49m\u001b[38;5;28;43;01mif\u001b[39;49;00m\u001b[43m \u001b[49m\u001b[43mobserved\u001b[49m\u001b[43m \u001b[49m\u001b[38;5;129;43;01mis\u001b[39;49;00m\u001b[43m \u001b[49m\u001b[43mlib\u001b[49m\u001b[38;5;241;43m.\u001b[39;49m\u001b[43mno_default\u001b[49m\u001b[43m \u001b[49m\u001b[38;5;28;43;01melse\u001b[39;49;00m\u001b[43m \u001b[49m\u001b[43mobserved\u001b[49m\u001b[43m,\u001b[49m\n\u001b[0;32m   1285\u001b[0m \u001b[43m        \u001b[49m\u001b[43mdropna\u001b[49m\u001b[38;5;241;43m=\u001b[39;49m\u001b[38;5;28;43mself\u001b[39;49m\u001b[38;5;241;43m.\u001b[39;49m\u001b[43mdropna\u001b[49m\u001b[43m,\u001b[49m\n\u001b[0;32m   1286\u001b[0m \u001b[43m    \u001b[49m\u001b[43m)\u001b[49m\n\u001b[0;32m   1288\u001b[0m \u001b[38;5;28;01mif\u001b[39;00m observed \u001b[38;5;129;01mis\u001b[39;00m lib\u001b[38;5;241m.\u001b[39mno_default:\n\u001b[0;32m   1289\u001b[0m     \u001b[38;5;28;01mif\u001b[39;00m \u001b[38;5;28many\u001b[39m(ping\u001b[38;5;241m.\u001b[39m_passed_categorical \u001b[38;5;28;01mfor\u001b[39;00m ping \u001b[38;5;129;01min\u001b[39;00m grouper\u001b[38;5;241m.\u001b[39mgroupings):\n",
      "File \u001b[1;32m~\\anaconda3\\lib\\site-packages\\pandas\\core\\groupby\\grouper.py:1009\u001b[0m, in \u001b[0;36mget_grouper\u001b[1;34m(obj, key, axis, level, sort, observed, validate, dropna)\u001b[0m\n\u001b[0;32m   1007\u001b[0m         in_axis, level, gpr \u001b[38;5;241m=\u001b[39m \u001b[38;5;28;01mFalse\u001b[39;00m, gpr, \u001b[38;5;28;01mNone\u001b[39;00m\n\u001b[0;32m   1008\u001b[0m     \u001b[38;5;28;01melse\u001b[39;00m:\n\u001b[1;32m-> 1009\u001b[0m         \u001b[38;5;28;01mraise\u001b[39;00m \u001b[38;5;167;01mKeyError\u001b[39;00m(gpr)\n\u001b[0;32m   1010\u001b[0m \u001b[38;5;28;01melif\u001b[39;00m \u001b[38;5;28misinstance\u001b[39m(gpr, Grouper) \u001b[38;5;129;01mand\u001b[39;00m gpr\u001b[38;5;241m.\u001b[39mkey \u001b[38;5;129;01mis\u001b[39;00m \u001b[38;5;129;01mnot\u001b[39;00m \u001b[38;5;28;01mNone\u001b[39;00m:\n\u001b[0;32m   1011\u001b[0m     \u001b[38;5;66;03m# Add key to exclusions\u001b[39;00m\n\u001b[0;32m   1012\u001b[0m     exclusions\u001b[38;5;241m.\u001b[39madd(gpr\u001b[38;5;241m.\u001b[39mkey)\n",
      "\u001b[1;31mKeyError\u001b[0m: 'article_type'"
     ]
    }
   ],
   "source": [
    "grouped = df_new.groupby('article_type')['extr_extr01_melt01_temp_r_value_act']\n",
    "\n",
    "# Calculate statistical description for each group\n",
    "description_by_article_type = grouped.describe()\n",
    "\n",
    "# Display the result\n",
    "print(description_by_article_type)"
   ]
  },
  {
   "cell_type": "code",
   "execution_count": null,
   "id": "f10e1e90",
   "metadata": {},
   "outputs": [],
   "source": []
  },
  {
   "cell_type": "code",
   "execution_count": 30,
   "id": "05e3d0ad",
   "metadata": {},
   "outputs": [
    {
     "name": "stderr",
     "output_type": "stream",
     "text": [
      "C:\\Users\\uddip\\anaconda3\\lib\\site-packages\\statsmodels\\tsa\\statespace\\sarimax.py:966: UserWarning: Non-stationary starting autoregressive parameters found. Using zeros as starting parameters.\n",
      "  warn('Non-stationary starting autoregressive parameters'\n",
      "C:\\Users\\uddip\\anaconda3\\lib\\site-packages\\statsmodels\\tsa\\statespace\\sarimax.py:978: UserWarning: Non-invertible starting MA parameters found. Using zeros as starting parameters.\n",
      "  warn('Non-invertible starting MA parameters found.'\n"
     ]
    },
    {
     "ename": "ValueError",
     "evalue": "Input contains NaN, infinity or a value too large for dtype('float64').",
     "output_type": "error",
     "traceback": [
      "\u001b[1;31m---------------------------------------------------------------------------\u001b[0m",
      "\u001b[1;31mValueError\u001b[0m                                Traceback (most recent call last)",
      "Cell \u001b[1;32mIn [30], line 40\u001b[0m\n\u001b[0;32m     37\u001b[0m forecast \u001b[38;5;241m=\u001b[39m fit_model\u001b[38;5;241m.\u001b[39mforecast(steps\u001b[38;5;241m=\u001b[39m\u001b[38;5;28mlen\u001b[39m(test))\n\u001b[0;32m     39\u001b[0m \u001b[38;5;66;03m# Evaluate the model\u001b[39;00m\n\u001b[1;32m---> 40\u001b[0m mse \u001b[38;5;241m=\u001b[39m \u001b[43mmean_squared_error\u001b[49m\u001b[43m(\u001b[49m\u001b[43mtest\u001b[49m\u001b[43m[\u001b[49m\u001b[43mtarget_variable\u001b[49m\u001b[43m]\u001b[49m\u001b[43m,\u001b[49m\u001b[43m \u001b[49m\u001b[43mforecast\u001b[49m\u001b[43m)\u001b[49m\n\u001b[0;32m     41\u001b[0m \u001b[38;5;28mprint\u001b[39m(\u001b[38;5;124mf\u001b[39m\u001b[38;5;124m\"\u001b[39m\u001b[38;5;124mMean Squared Error: \u001b[39m\u001b[38;5;132;01m{\u001b[39;00mmse\u001b[38;5;132;01m}\u001b[39;00m\u001b[38;5;124m\"\u001b[39m)\n\u001b[0;32m     43\u001b[0m \u001b[38;5;66;03m# Plotting\u001b[39;00m\n",
      "File \u001b[1;32m~\\anaconda3\\lib\\site-packages\\sklearn\\metrics\\_regression.py:438\u001b[0m, in \u001b[0;36mmean_squared_error\u001b[1;34m(y_true, y_pred, sample_weight, multioutput, squared)\u001b[0m\n\u001b[0;32m    378\u001b[0m \u001b[38;5;28;01mdef\u001b[39;00m \u001b[38;5;21mmean_squared_error\u001b[39m(\n\u001b[0;32m    379\u001b[0m     y_true, y_pred, \u001b[38;5;241m*\u001b[39m, sample_weight\u001b[38;5;241m=\u001b[39m\u001b[38;5;28;01mNone\u001b[39;00m, multioutput\u001b[38;5;241m=\u001b[39m\u001b[38;5;124m\"\u001b[39m\u001b[38;5;124muniform_average\u001b[39m\u001b[38;5;124m\"\u001b[39m, squared\u001b[38;5;241m=\u001b[39m\u001b[38;5;28;01mTrue\u001b[39;00m\n\u001b[0;32m    380\u001b[0m ):\n\u001b[0;32m    381\u001b[0m     \u001b[38;5;124;03m\"\"\"Mean squared error regression loss.\u001b[39;00m\n\u001b[0;32m    382\u001b[0m \n\u001b[0;32m    383\u001b[0m \u001b[38;5;124;03m    Read more in the :ref:`User Guide <mean_squared_error>`.\u001b[39;00m\n\u001b[1;32m   (...)\u001b[0m\n\u001b[0;32m    436\u001b[0m \u001b[38;5;124;03m    0.825...\u001b[39;00m\n\u001b[0;32m    437\u001b[0m \u001b[38;5;124;03m    \"\"\"\u001b[39;00m\n\u001b[1;32m--> 438\u001b[0m     y_type, y_true, y_pred, multioutput \u001b[38;5;241m=\u001b[39m \u001b[43m_check_reg_targets\u001b[49m\u001b[43m(\u001b[49m\n\u001b[0;32m    439\u001b[0m \u001b[43m        \u001b[49m\u001b[43my_true\u001b[49m\u001b[43m,\u001b[49m\u001b[43m \u001b[49m\u001b[43my_pred\u001b[49m\u001b[43m,\u001b[49m\u001b[43m \u001b[49m\u001b[43mmultioutput\u001b[49m\n\u001b[0;32m    440\u001b[0m \u001b[43m    \u001b[49m\u001b[43m)\u001b[49m\n\u001b[0;32m    441\u001b[0m     check_consistent_length(y_true, y_pred, sample_weight)\n\u001b[0;32m    442\u001b[0m     output_errors \u001b[38;5;241m=\u001b[39m np\u001b[38;5;241m.\u001b[39maverage((y_true \u001b[38;5;241m-\u001b[39m y_pred) \u001b[38;5;241m*\u001b[39m\u001b[38;5;241m*\u001b[39m \u001b[38;5;241m2\u001b[39m, axis\u001b[38;5;241m=\u001b[39m\u001b[38;5;241m0\u001b[39m, weights\u001b[38;5;241m=\u001b[39msample_weight)\n",
      "File \u001b[1;32m~\\anaconda3\\lib\\site-packages\\sklearn\\metrics\\_regression.py:95\u001b[0m, in \u001b[0;36m_check_reg_targets\u001b[1;34m(y_true, y_pred, multioutput, dtype)\u001b[0m\n\u001b[0;32m     61\u001b[0m \u001b[38;5;124;03m\"\"\"Check that y_true and y_pred belong to the same regression task.\u001b[39;00m\n\u001b[0;32m     62\u001b[0m \n\u001b[0;32m     63\u001b[0m \u001b[38;5;124;03mParameters\u001b[39;00m\n\u001b[1;32m   (...)\u001b[0m\n\u001b[0;32m     92\u001b[0m \u001b[38;5;124;03m    the dtype argument passed to check_array.\u001b[39;00m\n\u001b[0;32m     93\u001b[0m \u001b[38;5;124;03m\"\"\"\u001b[39;00m\n\u001b[0;32m     94\u001b[0m check_consistent_length(y_true, y_pred)\n\u001b[1;32m---> 95\u001b[0m y_true \u001b[38;5;241m=\u001b[39m \u001b[43mcheck_array\u001b[49m\u001b[43m(\u001b[49m\u001b[43my_true\u001b[49m\u001b[43m,\u001b[49m\u001b[43m \u001b[49m\u001b[43mensure_2d\u001b[49m\u001b[38;5;241;43m=\u001b[39;49m\u001b[38;5;28;43;01mFalse\u001b[39;49;00m\u001b[43m,\u001b[49m\u001b[43m \u001b[49m\u001b[43mdtype\u001b[49m\u001b[38;5;241;43m=\u001b[39;49m\u001b[43mdtype\u001b[49m\u001b[43m)\u001b[49m\n\u001b[0;32m     96\u001b[0m y_pred \u001b[38;5;241m=\u001b[39m check_array(y_pred, ensure_2d\u001b[38;5;241m=\u001b[39m\u001b[38;5;28;01mFalse\u001b[39;00m, dtype\u001b[38;5;241m=\u001b[39mdtype)\n\u001b[0;32m     98\u001b[0m \u001b[38;5;28;01mif\u001b[39;00m y_true\u001b[38;5;241m.\u001b[39mndim \u001b[38;5;241m==\u001b[39m \u001b[38;5;241m1\u001b[39m:\n",
      "File \u001b[1;32m~\\anaconda3\\lib\\site-packages\\sklearn\\utils\\validation.py:800\u001b[0m, in \u001b[0;36mcheck_array\u001b[1;34m(array, accept_sparse, accept_large_sparse, dtype, order, copy, force_all_finite, ensure_2d, allow_nd, ensure_min_samples, ensure_min_features, estimator)\u001b[0m\n\u001b[0;32m    794\u001b[0m         \u001b[38;5;28;01mraise\u001b[39;00m \u001b[38;5;167;01mValueError\u001b[39;00m(\n\u001b[0;32m    795\u001b[0m             \u001b[38;5;124m\"\u001b[39m\u001b[38;5;124mFound array with dim \u001b[39m\u001b[38;5;132;01m%d\u001b[39;00m\u001b[38;5;124m. \u001b[39m\u001b[38;5;132;01m%s\u001b[39;00m\u001b[38;5;124m expected <= 2.\u001b[39m\u001b[38;5;124m\"\u001b[39m\n\u001b[0;32m    796\u001b[0m             \u001b[38;5;241m%\u001b[39m (array\u001b[38;5;241m.\u001b[39mndim, estimator_name)\n\u001b[0;32m    797\u001b[0m         )\n\u001b[0;32m    799\u001b[0m     \u001b[38;5;28;01mif\u001b[39;00m force_all_finite:\n\u001b[1;32m--> 800\u001b[0m         \u001b[43m_assert_all_finite\u001b[49m\u001b[43m(\u001b[49m\u001b[43marray\u001b[49m\u001b[43m,\u001b[49m\u001b[43m \u001b[49m\u001b[43mallow_nan\u001b[49m\u001b[38;5;241;43m=\u001b[39;49m\u001b[43mforce_all_finite\u001b[49m\u001b[43m \u001b[49m\u001b[38;5;241;43m==\u001b[39;49m\u001b[43m \u001b[49m\u001b[38;5;124;43m\"\u001b[39;49m\u001b[38;5;124;43mallow-nan\u001b[39;49m\u001b[38;5;124;43m\"\u001b[39;49m\u001b[43m)\u001b[49m\n\u001b[0;32m    802\u001b[0m \u001b[38;5;28;01mif\u001b[39;00m ensure_min_samples \u001b[38;5;241m>\u001b[39m \u001b[38;5;241m0\u001b[39m:\n\u001b[0;32m    803\u001b[0m     n_samples \u001b[38;5;241m=\u001b[39m _num_samples(array)\n",
      "File \u001b[1;32m~\\anaconda3\\lib\\site-packages\\sklearn\\utils\\validation.py:114\u001b[0m, in \u001b[0;36m_assert_all_finite\u001b[1;34m(X, allow_nan, msg_dtype)\u001b[0m\n\u001b[0;32m    107\u001b[0m     \u001b[38;5;28;01mif\u001b[39;00m (\n\u001b[0;32m    108\u001b[0m         allow_nan\n\u001b[0;32m    109\u001b[0m         \u001b[38;5;129;01mand\u001b[39;00m np\u001b[38;5;241m.\u001b[39misinf(X)\u001b[38;5;241m.\u001b[39many()\n\u001b[0;32m    110\u001b[0m         \u001b[38;5;129;01mor\u001b[39;00m \u001b[38;5;129;01mnot\u001b[39;00m allow_nan\n\u001b[0;32m    111\u001b[0m         \u001b[38;5;129;01mand\u001b[39;00m \u001b[38;5;129;01mnot\u001b[39;00m np\u001b[38;5;241m.\u001b[39misfinite(X)\u001b[38;5;241m.\u001b[39mall()\n\u001b[0;32m    112\u001b[0m     ):\n\u001b[0;32m    113\u001b[0m         type_err \u001b[38;5;241m=\u001b[39m \u001b[38;5;124m\"\u001b[39m\u001b[38;5;124minfinity\u001b[39m\u001b[38;5;124m\"\u001b[39m \u001b[38;5;28;01mif\u001b[39;00m allow_nan \u001b[38;5;28;01melse\u001b[39;00m \u001b[38;5;124m\"\u001b[39m\u001b[38;5;124mNaN, infinity\u001b[39m\u001b[38;5;124m\"\u001b[39m\n\u001b[1;32m--> 114\u001b[0m         \u001b[38;5;28;01mraise\u001b[39;00m \u001b[38;5;167;01mValueError\u001b[39;00m(\n\u001b[0;32m    115\u001b[0m             msg_err\u001b[38;5;241m.\u001b[39mformat(\n\u001b[0;32m    116\u001b[0m                 type_err, msg_dtype \u001b[38;5;28;01mif\u001b[39;00m msg_dtype \u001b[38;5;129;01mis\u001b[39;00m \u001b[38;5;129;01mnot\u001b[39;00m \u001b[38;5;28;01mNone\u001b[39;00m \u001b[38;5;28;01melse\u001b[39;00m X\u001b[38;5;241m.\u001b[39mdtype\n\u001b[0;32m    117\u001b[0m             )\n\u001b[0;32m    118\u001b[0m         )\n\u001b[0;32m    119\u001b[0m \u001b[38;5;66;03m# for object dtype data, we only check for NaNs (GH-13254)\u001b[39;00m\n\u001b[0;32m    120\u001b[0m \u001b[38;5;28;01melif\u001b[39;00m X\u001b[38;5;241m.\u001b[39mdtype \u001b[38;5;241m==\u001b[39m np\u001b[38;5;241m.\u001b[39mdtype(\u001b[38;5;124m\"\u001b[39m\u001b[38;5;124mobject\u001b[39m\u001b[38;5;124m\"\u001b[39m) \u001b[38;5;129;01mand\u001b[39;00m \u001b[38;5;129;01mnot\u001b[39;00m allow_nan:\n",
      "\u001b[1;31mValueError\u001b[0m: Input contains NaN, infinity or a value too large for dtype('float64')."
     ]
    }
   ],
   "source": [
    "import pandas as pd\n",
    "import numpy as np\n",
    "import matplotlib.pyplot as plt\n",
    "from statsmodels.tsa.arima.model import ARIMA\n",
    "from sklearn.model_selection import train_test_split\n",
    "from sklearn.metrics import mean_squared_error\n",
    "\n",
    "# Assuming you have a DataFrame named df_new with the specified columns\n",
    "# Replace this with your actual DataFrame\n",
    "# Example DataFrame:\n",
    "# df_new = pd.read_csv('your_data.csv')\n",
    "\n",
    "# Select relevant columns\n",
    "selected_columns = ['article_type', 'extr_extr01_melt01_pressure_r_value_act', 'extr_extr01_melt01_temp_r_value_act', 'extr_extr01_screw_load_r_value_act', 'extr_extr01_vacuum_r_value_act', 'extr_extr01_screw_rotspeed_r_value_act']\n",
    "df_selected = df_new[selected_columns]\n",
    "\n",
    "# For simplicity, let's focus on one variable (extr_extr01_melt01_pressure_r_value_act) for the ARIMA model\n",
    "target_variable = 'extr_extr01_melt01_pressure_r_value_act'\n",
    "df_target = df_selected[['article_type', target_variable]]\n",
    "\n",
    "# Resetting the index to make 'timestamp' a new column\n",
    "df_target.reset_index(inplace=True)\n",
    "\n",
    "# Train-test split\n",
    "train_size = int(len(df_target) * 0.8)\n",
    "train, test = df_target.iloc[:train_size], df_target.iloc[train_size:]\n",
    "\n",
    "# Convert the 'timestamp' column to datetime, if not already\n",
    "# df_target['timestamp'] = pd.to_datetime(df_target['timestamp'])\n",
    "\n",
    "#  Fit an ARIMA model\n",
    "order = (1, 1, 1)  # Example order, you may need to tune this\n",
    "model = ARIMA(train[target_variable], order=order)\n",
    "fit_model = model.fit()\n",
    "\n",
    "# Forecast\n",
    "forecast = fit_model.forecast(steps=len(test))\n",
    "\n",
    "# Evaluate the model\n",
    "mse = mean_squared_error(test[target_variable], forecast)\n",
    "print(f\"Mean Squared Error: {mse}\")\n",
    "\n",
    "# Plotting\n",
    "plt.figure(figsize=(12, 6))\n",
    "plt.plot(train['timestamp'], train[target_variable], label='Train')\n",
    "plt.plot(test['timestamp'], test[target_variable], label='Test')\n",
    "plt.plot(test['timestamp'], forecast, label='Forecast', color='red')\n",
    "plt.title('ARIMA Model Forecast')\n",
    "plt.xlabel('Timestamp')\n",
    "plt.ylabel(target_variable)\n",
    "plt.legend()\n",
    "plt.show()"
   ]
  },
  {
   "cell_type": "code",
   "execution_count": null,
   "id": "e7a5bad1",
   "metadata": {},
   "outputs": [],
   "source": []
  }
 ],
 "metadata": {
  "kernelspec": {
   "display_name": "Python 3 (ipykernel)",
   "language": "python",
   "name": "python3"
  },
  "language_info": {
   "codemirror_mode": {
    "name": "ipython",
    "version": 3
   },
   "file_extension": ".py",
   "mimetype": "text/x-python",
   "name": "python",
   "nbconvert_exporter": "python",
   "pygments_lexer": "ipython3",
   "version": "3.9.13"
  }
 },
 "nbformat": 4,
 "nbformat_minor": 5
}
