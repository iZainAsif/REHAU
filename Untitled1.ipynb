{
 "cells": [
  {
   "cell_type": "code",
   "execution_count": 14,
   "id": "c7d19e0c",
   "metadata": {},
   "outputs": [],
   "source": [
    "import pandas as pd\n",
    "import matplotlib.pyplot as plt\n",
    "from statsmodels.graphics.tsaplots import plot_acf\n",
    "\n",
    "# # Assuming df is your DataFrame with a time series column\n",
    "# # Replace 'your_time_series_column' with the actual name of your time series column\n",
    "\n",
    "# # Example: Create a sample DataFrame\n",
    "# data = {'date': pd.date_range('2022-01-01', '2022-12-31', freq='D'),\n",
    "#         'value': range(365)}\n",
    "# df = pd.DataFrame(data)\n",
    "\n",
    "# # Set the 'date' column as the index (assuming it's a datetime type)\n",
    "# df.set_index('date', inplace=True)\n",
    "\n",
    "# # Plot the original time series\n",
    "# plt.figure(figsize=(10, 5))\n",
    "# plt.plot(df['value'])\n",
    "# plt.title('Original Time Series')\n",
    "# plt.show()\n",
    "\n",
    "# # Autocorrelation Analysis using plot_acf\n",
    "# plt.figure(figsize=(10, 5))\n",
    "# plot_acf(df['value'], lags=40)  # Adjust 'lags' based on your time series characteristics\n",
    "# plt.title('Autocorrelation Function (ACF)')\n",
    "# plt.show()"
   ]
  },
  {
   "cell_type": "code",
   "execution_count": 5,
   "id": "bd4ac106",
   "metadata": {},
   "outputs": [],
   "source": [
    "df = pd.read_parquet('C:\\\\Users\\\\uddip\\\\Downloads\\\\ABAWS2324.parq')"
   ]
  },
  {
   "cell_type": "code",
   "execution_count": 8,
   "id": "e50f9137",
   "metadata": {},
   "outputs": [],
   "source": [
    "#to display full dataframe\n",
    "pd.set_option('display.max_columns', None)\n",
    "pd.set_option('display.max_rows', None)\n",
    "\n",
    "# Set the display option to avoid scientific notation\n",
    "pd.set_option('display.float_format', lambda x: '%.5f' % x)\n"
   ]
  },
  {
   "cell_type": "code",
   "execution_count": 9,
   "id": "d42cf9da",
   "metadata": {},
   "outputs": [],
   "source": [
    "selected_columns = ['article_type', 'extr_extr01_melt01_pressure_r_value_act', 'extr_extr01_melt01_temp_r_value_act', 'extr_extr01_screw_load_r_value_act', 'extr_extr01_vacuum_r_value_act', 'extr_extr01_screw_rotspeed_r_value_act']"
   ]
  },
  {
   "cell_type": "code",
   "execution_count": 10,
   "id": "a42c4079",
   "metadata": {},
   "outputs": [],
   "source": [
    "df_new = df[selected_columns]"
   ]
  },
  {
   "cell_type": "code",
   "execution_count": 13,
   "id": "4a5cd96c",
   "metadata": {},
   "outputs": [],
   "source": [
    "df_tigramite = df_new.dropna(subset=['extr_extr01_melt01_temp_r_value_act'])"
   ]
  },
  {
   "cell_type": "code",
   "execution_count": 15,
   "id": "a9366304",
   "metadata": {},
   "outputs": [],
   "source": [
    "# df_tigramite.head()"
   ]
  },
  {
   "cell_type": "code",
   "execution_count": null,
   "id": "0380e81d",
   "metadata": {},
   "outputs": [],
   "source": []
  },
  {
   "cell_type": "markdown",
   "id": "35e7dae5",
   "metadata": {},
   "source": [
    "# stationary check"
   ]
  },
  {
   "cell_type": "code",
   "execution_count": 16,
   "id": "1db755f8",
   "metadata": {},
   "outputs": [],
   "source": [
    "import pandas as pd\n",
    "import matplotlib.pyplot as plt\n",
    "from statsmodels.tsa.stattools import adfuller\n",
    "import numpy as np\n",
    "\n",
    "import seaborn as sns"
   ]
  },
  {
   "cell_type": "code",
   "execution_count": 6,
   "id": "463770a4",
   "metadata": {},
   "outputs": [],
   "source": [
    "# df = pd.read_parquet('C:\\\\Users\\\\uddip\\\\Downloads\\\\ABAWS2324.parq')\n"
   ]
  },
  {
   "cell_type": "code",
   "execution_count": 19,
   "id": "f24ba943",
   "metadata": {},
   "outputs": [],
   "source": [
    "selected_columns = ['article_type', 'extr_extr01_screw_load_r_value_act', 'extr_extr01_vacuum_r_value_act']"
   ]
  },
  {
   "cell_type": "code",
   "execution_count": 20,
   "id": "b51b684f",
   "metadata": {},
   "outputs": [],
   "source": [
    "df_new = df[selected_columns]"
   ]
  },
  {
   "cell_type": "code",
   "execution_count": 21,
   "id": "9ec33393",
   "metadata": {},
   "outputs": [],
   "source": [
    "df_new1 = df_new.dropna(subset=['extr_extr01_screw_load_r_value_act'])"
   ]
  },
  {
   "cell_type": "code",
   "execution_count": 22,
   "id": "d8059716",
   "metadata": {},
   "outputs": [],
   "source": [
    "# Sort the DataFrame based on 'recipe'\n",
    "df_sorted = df_new1.sort_values(by='article_type')"
   ]
  },
  {
   "cell_type": "code",
   "execution_count": null,
   "id": "c5c78bf1",
   "metadata": {},
   "outputs": [],
   "source": []
  },
  {
   "cell_type": "code",
   "execution_count": 15,
   "id": "dd43f646",
   "metadata": {},
   "outputs": [],
   "source": [
    "#to display full dataframe\n",
    "pd.set_option('display.max_columns', None)\n",
    "pd.set_option('display.max_rows', None)\n",
    "\n",
    "# Set the display option to avoid scientific notation\n",
    "pd.set_option('display.float_format', lambda x: '%.5f' % x)"
   ]
  },
  {
   "cell_type": "code",
   "execution_count": null,
   "id": "bca4f1ed",
   "metadata": {},
   "outputs": [],
   "source": []
  },
  {
   "cell_type": "code",
   "execution_count": 12,
   "id": "ccb03395",
   "metadata": {},
   "outputs": [
    {
     "ename": "SyntaxError",
     "evalue": "invalid syntax (3983158574.py, line 14)",
     "output_type": "error",
     "traceback": [
      "\u001b[1;36m  Cell \u001b[1;32mIn [12], line 14\u001b[1;36m\u001b[0m\n\u001b[1;33m    def adf_test(df_final['temperature']):\u001b[0m\n\u001b[1;37m                         ^\u001b[0m\n\u001b[1;31mSyntaxError\u001b[0m\u001b[1;31m:\u001b[0m invalid syntax\n"
     ]
    }
   ],
   "source": [
    "\n",
    "\n",
    "# Assuming df is your DataFrame with 'temperature' as the time series column\n",
    "# Replace 'your_dataframe' with the actual name of your DataFrame\n",
    "\n",
    "# Example: Assuming df is your DataFrame\n",
    "df_final = pd.DataFrame({'temperature': df_sorted['extr_extr01_melt01_pressure_r_value_act']})\n",
    "\n",
    "# Plot the original time series\n",
    "plt.figure(figsize=(10, 5))\n",
    "plt.plot(df_final['temperature'])\n",
    "plt.title('Original Time Series')\n",
    "plt.show()\n",
    "\n",
    "# Function to perform ADF test\n",
    "def adf_test(df_final['temperature']):\n",
    "    result = adfuller(df_final['temperature'], autolag='AIC')\n",
    "    print('ADF Statistic:', result[0])\n",
    "    print('p-value:', result[1])\n",
    "    print('Critical Values:', result[4])\n",
    "\n",
    "# Perform ADF test on the 'temperature' column\n",
    "adf_test(df['temperature'])"
   ]
  },
  {
   "cell_type": "code",
   "execution_count": 13,
   "id": "5c3c44ca",
   "metadata": {},
   "outputs": [
    {
     "ename": "NameError",
     "evalue": "name 'plt' is not defined",
     "output_type": "error",
     "traceback": [
      "\u001b[1;31m---------------------------------------------------------------------------\u001b[0m",
      "\u001b[1;31mNameError\u001b[0m                                 Traceback (most recent call last)",
      "Cell \u001b[1;32mIn [13], line 5\u001b[0m\n\u001b[0;32m      2\u001b[0m df_final \u001b[38;5;241m=\u001b[39m pd\u001b[38;5;241m.\u001b[39mDataFrame({\u001b[38;5;124m'\u001b[39m\u001b[38;5;124mtemperature\u001b[39m\u001b[38;5;124m'\u001b[39m: df_sorted[\u001b[38;5;124m'\u001b[39m\u001b[38;5;124mextr_extr01_melt01_pressure_r_value_act\u001b[39m\u001b[38;5;124m'\u001b[39m]})\n\u001b[0;32m      4\u001b[0m \u001b[38;5;66;03m# Plot the original time series\u001b[39;00m\n\u001b[1;32m----> 5\u001b[0m \u001b[43mplt\u001b[49m\u001b[38;5;241m.\u001b[39mfigure(figsize\u001b[38;5;241m=\u001b[39m(\u001b[38;5;241m10\u001b[39m, \u001b[38;5;241m5\u001b[39m))\n\u001b[0;32m      6\u001b[0m plt\u001b[38;5;241m.\u001b[39mplot(df_final[\u001b[38;5;124m'\u001b[39m\u001b[38;5;124mtemperature\u001b[39m\u001b[38;5;124m'\u001b[39m])\n\u001b[0;32m      7\u001b[0m plt\u001b[38;5;241m.\u001b[39mtitle(\u001b[38;5;124m'\u001b[39m\u001b[38;5;124mOriginal Time Series\u001b[39m\u001b[38;5;124m'\u001b[39m)\n",
      "\u001b[1;31mNameError\u001b[0m: name 'plt' is not defined"
     ]
    }
   ],
   "source": [
    "# Example: Assuming df is your DataFrame\n",
    "df_final = pd.DataFrame({'temperature': df_sorted['extr_extr01_melt01_pressure_r_value_act']})\n",
    "\n",
    "# Plot the original time series\n",
    "plt.figure(figsize=(10, 5))\n",
    "plt.plot(df_final['temperature'])\n",
    "plt.title('Original Time Series')\n",
    "plt.show()\n",
    "\n",
    "# Function to perform ADF test\n",
    "def adf_test(timeseries):\n",
    "    result = adfuller(timeseries, autolag='AIC')\n",
    "    print('ADF Statistic:', result[0])\n",
    "    print('p-value:', result[1])\n",
    "    print('Critical Values:', result[4])\n",
    "\n",
    "# Perform ADF test on the 'temperature' column\n",
    "adf_test(df_final['temperature'])"
   ]
  },
  {
   "cell_type": "code",
   "execution_count": 23,
   "id": "adcb94a3",
   "metadata": {},
   "outputs": [
    {
     "data": {
      "image/png": "[encoded data removed]",
      "text/plain": [
       "<Figure size 1000x500 with 1 Axes>"
      ]
     },
     "metadata": {},
     "output_type": "display_data"
    },
    {
     "name": "stdout",
     "output_type": "stream",
     "text": [
      "ADF Statistic: -6.000714279707994\n",
      "p-value: 1.659953445329464e-07\n",
      "Critical Values: {'1%': -3.4369193380671, '5%': -2.864440383452517, '10%': -2.56831430323573}\n"
     ]
    }
   ],
   "source": [
    "df_final = pd.DataFrame({'temperature': df_sorted['extr_extr01_screw_load_r_value_act']})\n",
    "\n",
    "# Select a subset of the data (adjust the slice as needed)\n",
    "subset_temperature = df_final['temperature'][:1000]\n",
    "\n",
    "# Plot the original time series\n",
    "plt.figure(figsize=(10, 5))\n",
    "plt.plot(subset_temperature)\n",
    "plt.title('Original Time Series')\n",
    "plt.show()\n",
    "\n",
    "# Function to perform ADF test\n",
    "def adf_test(timeseries):\n",
    "    result = adfuller(timeseries, autolag='AIC')\n",
    "    print('ADF Statistic:', result[0])\n",
    "    print('p-value:', result[1])\n",
    "    print('Critical Values:', result[4])\n",
    "\n",
    "# Perform ADF test on the subset of the 'temperature' column\n",
    "adf_test(subset_temperature)"
   ]
  },
  {
   "cell_type": "code",
   "execution_count": 24,
   "id": "ec981a94",
   "metadata": {},
   "outputs": [
    {
     "data": {
      "image/png": "[encoded data removed]",
      "text/plain": [
       "<Figure size 1000x500 with 1 Axes>"
      ]
     },
     "metadata": {},
     "output_type": "display_data"
    },
    {
     "name": "stdout",
     "output_type": "stream",
     "text": [
      "ADF Statistic: -9.939704020636645\n",
      "p-value: 2.684616197799892e-17\n",
      "Critical Values: {'1%': -3.4306949646925067, '5%': -2.861692461808925, '10%': -2.566851151335082}\n"
     ]
    }
   ],
   "source": [
    "df_final = pd.DataFrame({'temperature': df_sorted['extr_extr01_screw_load_r_value_act']})\n",
    "\n",
    "# Select a subset of the data (adjust the slice as needed)\n",
    "subset_temperature = df_final['temperature'][1000:20000]\n",
    "\n",
    "# Plot the original time series\n",
    "plt.figure(figsize=(10, 5))\n",
    "plt.plot(subset_temperature)\n",
    "plt.title('Original Time Series')\n",
    "plt.show()\n",
    "\n",
    "# Function to perform ADF test\n",
    "def adf_test(timeseries):\n",
    "    result = adfuller(timeseries, autolag='AIC')\n",
    "    print('ADF Statistic:', result[0])\n",
    "    print('p-value:', result[1])\n",
    "    print('Critical Values:', result[4])\n",
    "\n",
    "# Perform ADF test on the subset of the 'temperature' column\n",
    "adf_test(subset_temperature)"
   ]
  },
  {
   "cell_type": "code",
   "execution_count": null,
   "id": "9c5b2376",
   "metadata": {},
   "outputs": [],
   "source": []
  },
  {
   "cell_type": "code",
   "execution_count": 25,
   "id": "ee1d9dac",
   "metadata": {},
   "outputs": [],
   "source": [
    "df_PCA = df.dropna(subset=['extr_extr01_melt01_temp_r_value_act'])"
   ]
  },
  {
   "cell_type": "code",
   "execution_count": 26,
   "id": "61de5287",
   "metadata": {},
   "outputs": [
    {
     "data": {
      "text/plain": [
       "Index(['dose_grav01_hopper01_mattemp_r_value_act',\n",
       "       'dose_grav01_hopper01_powerin_r_value_act',\n",
       "       'dose_grav01_hopper01_rotspeed_r_value_act',\n",
       "       'dose_grav01_hopper01_throughput_r_value_act',\n",
       "       'dose_grav01_hopper01_throughput_r_value_set',\n",
       "       'dose_grav01_hopper01_weight_r_value_act',\n",
       "       'dose_grav01_hopper02_mattemp_r_value_act',\n",
       "       'dose_grav01_hopper02_powerin_r_value_act',\n",
       "       'dose_grav01_hopper02_rotspeed_r_value_act',\n",
       "       'dose_grav01_hopper02_throughput_r_value_act',\n",
       "       'dose_grav01_hopper02_throughput_r_value_set',\n",
       "       'dose_grav01_hopper02_weight_r_value_act',\n",
       "       'dose_grav01_hopper03_mattemp_r_value_act',\n",
       "       'dose_grav01_hopper03_powerin_r_value_act',\n",
       "       'dose_grav01_hopper03_rotspeed_r_value_act',\n",
       "       'dose_grav01_hopper03_throughput_r_value_act',\n",
       "       'dose_grav01_hopper03_throughput_r_value_set',\n",
       "       'dose_grav01_hopper03_weight_r_value_act',\n",
       "       'dose_grav01_hopper04_mattemp_r_value_act',\n",
       "       'dose_grav01_hopper04_powerin_r_value_act',\n",
       "       'dose_grav01_hopper04_rotspeed_r_value_act',\n",
       "       'dose_grav01_hopper04_throughput_r_value_act',\n",
       "       'dose_grav01_hopper04_throughput_r_value_set',\n",
       "       'dose_grav01_hopper04_weight_r_value_act',\n",
       "       'dose_grav01_hopper05_mattemp_r_value_act',\n",
       "       'dose_grav01_hopper05_powerin_r_value_act',\n",
       "       'dose_grav01_hopper05_rotspeed_r_value_act',\n",
       "       'dose_grav01_hopper05_throughput_r_value_act',\n",
       "       'dose_grav01_hopper05_throughput_r_value_set',\n",
       "       'dose_grav01_hopper05_weight_r_value_act',\n",
       "       'dose_grav01_total_throughput_r_value_act',\n",
       "       'dose_grav01_total_throughput_r_value_set',\n",
       "       'extr_extr01_funnel_active_r_value_act',\n",
       "       'extr_extr01_melt01_pressure_r_value_act',\n",
       "       'extr_extr01_melt01_temp_r_value_act',\n",
       "       'extr_extr01_screw_load_r_value_act',\n",
       "       'extr_extr01_screw_rotspeed_r_value_act',\n",
       "       'extr_extr01_screw_rotspeed_r_value_set',\n",
       "       'extr_extr01_vacuum_r_value_act', 'segment_nr',\n",
       "       'extr_extr01_zone01_ctrlpoint_r_value_act',\n",
       "       'extr_extr01_zone01_temp_r_value_act',\n",
       "       'extr_extr01_zone01_temp_r_value_set',\n",
       "       'extr_extr01_zone02_ctrlpoint_r_value_act',\n",
       "       'extr_extr01_zone02_temp_r_value_act',\n",
       "       'extr_extr01_zone02_temp_r_value_set',\n",
       "       'extr_extr01_zone03_ctrlpoint_r_value_act',\n",
       "       'extr_extr01_zone03_temp_r_value_act',\n",
       "       'extr_extr01_zone03_temp_r_value_set',\n",
       "       'extr_extr01_zone04_ctrlpoint_r_value_act',\n",
       "       'extr_extr01_zone04_temp_r_value_act',\n",
       "       'extr_extr01_zone04_temp_r_value_set',\n",
       "       'extr_extr01_zone05_ctrlpoint_r_value_act',\n",
       "       'extr_extr01_zone05_temp_r_value_act',\n",
       "       'extr_extr01_zone05_temp_r_value_set',\n",
       "       'extr_extr01_zone06_ctrlpoint_r_value_act',\n",
       "       'extr_extr01_zone06_temp_r_value_act',\n",
       "       'extr_extr01_zone06_temp_r_value_set',\n",
       "       'extr_extr01_zone07_ctrlpoint_r_value_act',\n",
       "       'extr_extr01_zone07_temp_r_value_act',\n",
       "       'extr_extr01_zone07_temp_r_value_set',\n",
       "       'extr_extr01_zone08_ctrlpoint_r_value_act',\n",
       "       'extr_extr01_zone08_temp_r_value_act',\n",
       "       'extr_extr01_zone08_temp_r_value_set',\n",
       "       'extr_extr01_zone09_ctrlpoint_r_value_act',\n",
       "       'extr_extr01_zone09_temp_r_value_act',\n",
       "       'extr_extr01_zone09_temp_r_value_set',\n",
       "       'extr_extr01_zone10_ctrlpoint_r_value_act',\n",
       "       'extr_extr01_zone10_temp_r_value_act',\n",
       "       'extr_extr01_zone10_temp_r_value_set',\n",
       "       'extr_extr01_zone11_ctrlpoint_r_value_act',\n",
       "       'extr_extr01_zone11_temp_r_value_act',\n",
       "       'extr_extr01_zone11_temp_r_value_set',\n",
       "       'extr_extr01_zone12_ctrlpoint_r_value_act',\n",
       "       'extr_extr01_zone12_temp_r_value_act',\n",
       "       'extr_extr01_zone12_temp_r_value_set',\n",
       "       'extr_extr01_zone13_ctrlpoint_r_value_act',\n",
       "       'extr_extr01_zone13_temp_r_value_act',\n",
       "       'extr_extr01_zone13_temp_r_value_set',\n",
       "       'extr_extr01_zone14_ctrlpoint_r_value_act',\n",
       "       'extr_extr01_zone14_temp_r_value_act',\n",
       "       'extr_extr01_zone14_temp_r_value_set',\n",
       "       'extr_extr01_zone15_ctrlpoint_r_value_act',\n",
       "       'extr_extr01_zone15_temp_r_value_act',\n",
       "       'extr_extr01_zone15_temp_r_value_set',\n",
       "       'extr_extr01_zone16_ctrlpoint_r_value_act',\n",
       "       'extr_extr01_zone16_temp_r_value_act',\n",
       "       'extr_extr01_zone16_temp_r_value_set', 'article_type', 'order',\n",
       "       'recipe', 'basematerial', 'timecode'],\n",
       "      dtype='object')"
      ]
     },
     "execution_count": 26,
     "metadata": {},
     "output_type": "execute_result"
    }
   ],
   "source": [
    "df_PCA.columns"
   ]
  },
  {
   "cell_type": "code",
   "execution_count": null,
   "id": "9a9cc60c",
   "metadata": {},
   "outputs": [],
   "source": []
  }
 ],
 "metadata": {
  "kernelspec": {
   "display_name": "Python 3 (ipykernel)",
   "language": "python",
   "name": "python3"
  },
  "language_info": {
   "codemirror_mode": {
    "name": "ipython",
    "version": 3
   },
   "file_extension": ".py",
   "mimetype": "text/x-python",
   "name": "python",
   "nbconvert_exporter": "python",
   "pygments_lexer": "ipython3",
   "version": "3.9.13"
  }
 },
 "nbformat": 4,
 "nbformat_minor": 5
}
